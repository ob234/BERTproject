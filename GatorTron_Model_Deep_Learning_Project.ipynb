{
  "nbformat": 4,
  "nbformat_minor": 0,
  "metadata": {
    "colab": {
      "provenance": [],
      "machine_shape": "hm",
      "gpuType": "A100"
    },
    "kernelspec": {
      "name": "python3",
      "display_name": "Python 3"
    },
    "language_info": {
      "name": "python"
    },
    "accelerator": "GPU",
    "gpuClass": "standard",
    "widgets": {
      "application/vnd.jupyter.widget-state+json": {
        "dc511d3b9dc84a7797cec48bce28da84": {
          "model_module": "@jupyter-widgets/controls",
          "model_name": "HBoxModel",
          "model_module_version": "1.5.0",
          "state": {
            "_dom_classes": [],
            "_model_module": "@jupyter-widgets/controls",
            "_model_module_version": "1.5.0",
            "_model_name": "HBoxModel",
            "_view_count": null,
            "_view_module": "@jupyter-widgets/controls",
            "_view_module_version": "1.5.0",
            "_view_name": "HBoxView",
            "box_style": "",
            "children": [
              "IPY_MODEL_f3572fc282014f37a6140ca1968945a1",
              "IPY_MODEL_ef8f6c5c2f3e41059c9083de673c52f9",
              "IPY_MODEL_3af359f84d4642618c00e1bba6cc20fa"
            ],
            "layout": "IPY_MODEL_4075300e923b4197b61eccbb8307355a"
          }
        },
        "f3572fc282014f37a6140ca1968945a1": {
          "model_module": "@jupyter-widgets/controls",
          "model_name": "HTMLModel",
          "model_module_version": "1.5.0",
          "state": {
            "_dom_classes": [],
            "_model_module": "@jupyter-widgets/controls",
            "_model_module_version": "1.5.0",
            "_model_name": "HTMLModel",
            "_view_count": null,
            "_view_module": "@jupyter-widgets/controls",
            "_view_module_version": "1.5.0",
            "_view_name": "HTMLView",
            "description": "",
            "description_tooltip": null,
            "layout": "IPY_MODEL_d34dcb12720b4ebd93c29d13e70d21ea",
            "placeholder": "​",
            "style": "IPY_MODEL_7f8aeb9ace754b8d8433fcb738d164b5",
            "value": "Downloading (…)okenizer_config.json: 100%"
          }
        },
        "ef8f6c5c2f3e41059c9083de673c52f9": {
          "model_module": "@jupyter-widgets/controls",
          "model_name": "FloatProgressModel",
          "model_module_version": "1.5.0",
          "state": {
            "_dom_classes": [],
            "_model_module": "@jupyter-widgets/controls",
            "_model_module_version": "1.5.0",
            "_model_name": "FloatProgressModel",
            "_view_count": null,
            "_view_module": "@jupyter-widgets/controls",
            "_view_module_version": "1.5.0",
            "_view_name": "ProgressView",
            "bar_style": "success",
            "description": "",
            "description_tooltip": null,
            "layout": "IPY_MODEL_24e64334acaf41e882236f1a64c8a592",
            "max": 418,
            "min": 0,
            "orientation": "horizontal",
            "style": "IPY_MODEL_61b0a85a349440798523d499041affda",
            "value": 418
          }
        },
        "3af359f84d4642618c00e1bba6cc20fa": {
          "model_module": "@jupyter-widgets/controls",
          "model_name": "HTMLModel",
          "model_module_version": "1.5.0",
          "state": {
            "_dom_classes": [],
            "_model_module": "@jupyter-widgets/controls",
            "_model_module_version": "1.5.0",
            "_model_name": "HTMLModel",
            "_view_count": null,
            "_view_module": "@jupyter-widgets/controls",
            "_view_module_version": "1.5.0",
            "_view_name": "HTMLView",
            "description": "",
            "description_tooltip": null,
            "layout": "IPY_MODEL_95cbda94ebb044189a5ccefd8af3e4b2",
            "placeholder": "​",
            "style": "IPY_MODEL_cbf4baf0411249929764d63006cf9c95",
            "value": " 418/418 [00:00&lt;00:00, 33.6kB/s]"
          }
        },
        "4075300e923b4197b61eccbb8307355a": {
          "model_module": "@jupyter-widgets/base",
          "model_name": "LayoutModel",
          "model_module_version": "1.2.0",
          "state": {
            "_model_module": "@jupyter-widgets/base",
            "_model_module_version": "1.2.0",
            "_model_name": "LayoutModel",
            "_view_count": null,
            "_view_module": "@jupyter-widgets/base",
            "_view_module_version": "1.2.0",
            "_view_name": "LayoutView",
            "align_content": null,
            "align_items": null,
            "align_self": null,
            "border": null,
            "bottom": null,
            "display": null,
            "flex": null,
            "flex_flow": null,
            "grid_area": null,
            "grid_auto_columns": null,
            "grid_auto_flow": null,
            "grid_auto_rows": null,
            "grid_column": null,
            "grid_gap": null,
            "grid_row": null,
            "grid_template_areas": null,
            "grid_template_columns": null,
            "grid_template_rows": null,
            "height": null,
            "justify_content": null,
            "justify_items": null,
            "left": null,
            "margin": null,
            "max_height": null,
            "max_width": null,
            "min_height": null,
            "min_width": null,
            "object_fit": null,
            "object_position": null,
            "order": null,
            "overflow": null,
            "overflow_x": null,
            "overflow_y": null,
            "padding": null,
            "right": null,
            "top": null,
            "visibility": null,
            "width": null
          }
        },
        "d34dcb12720b4ebd93c29d13e70d21ea": {
          "model_module": "@jupyter-widgets/base",
          "model_name": "LayoutModel",
          "model_module_version": "1.2.0",
          "state": {
            "_model_module": "@jupyter-widgets/base",
            "_model_module_version": "1.2.0",
            "_model_name": "LayoutModel",
            "_view_count": null,
            "_view_module": "@jupyter-widgets/base",
            "_view_module_version": "1.2.0",
            "_view_name": "LayoutView",
            "align_content": null,
            "align_items": null,
            "align_self": null,
            "border": null,
            "bottom": null,
            "display": null,
            "flex": null,
            "flex_flow": null,
            "grid_area": null,
            "grid_auto_columns": null,
            "grid_auto_flow": null,
            "grid_auto_rows": null,
            "grid_column": null,
            "grid_gap": null,
            "grid_row": null,
            "grid_template_areas": null,
            "grid_template_columns": null,
            "grid_template_rows": null,
            "height": null,
            "justify_content": null,
            "justify_items": null,
            "left": null,
            "margin": null,
            "max_height": null,
            "max_width": null,
            "min_height": null,
            "min_width": null,
            "object_fit": null,
            "object_position": null,
            "order": null,
            "overflow": null,
            "overflow_x": null,
            "overflow_y": null,
            "padding": null,
            "right": null,
            "top": null,
            "visibility": null,
            "width": null
          }
        },
        "7f8aeb9ace754b8d8433fcb738d164b5": {
          "model_module": "@jupyter-widgets/controls",
          "model_name": "DescriptionStyleModel",
          "model_module_version": "1.5.0",
          "state": {
            "_model_module": "@jupyter-widgets/controls",
            "_model_module_version": "1.5.0",
            "_model_name": "DescriptionStyleModel",
            "_view_count": null,
            "_view_module": "@jupyter-widgets/base",
            "_view_module_version": "1.2.0",
            "_view_name": "StyleView",
            "description_width": ""
          }
        },
        "24e64334acaf41e882236f1a64c8a592": {
          "model_module": "@jupyter-widgets/base",
          "model_name": "LayoutModel",
          "model_module_version": "1.2.0",
          "state": {
            "_model_module": "@jupyter-widgets/base",
            "_model_module_version": "1.2.0",
            "_model_name": "LayoutModel",
            "_view_count": null,
            "_view_module": "@jupyter-widgets/base",
            "_view_module_version": "1.2.0",
            "_view_name": "LayoutView",
            "align_content": null,
            "align_items": null,
            "align_self": null,
            "border": null,
            "bottom": null,
            "display": null,
            "flex": null,
            "flex_flow": null,
            "grid_area": null,
            "grid_auto_columns": null,
            "grid_auto_flow": null,
            "grid_auto_rows": null,
            "grid_column": null,
            "grid_gap": null,
            "grid_row": null,
            "grid_template_areas": null,
            "grid_template_columns": null,
            "grid_template_rows": null,
            "height": null,
            "justify_content": null,
            "justify_items": null,
            "left": null,
            "margin": null,
            "max_height": null,
            "max_width": null,
            "min_height": null,
            "min_width": null,
            "object_fit": null,
            "object_position": null,
            "order": null,
            "overflow": null,
            "overflow_x": null,
            "overflow_y": null,
            "padding": null,
            "right": null,
            "top": null,
            "visibility": null,
            "width": null
          }
        },
        "61b0a85a349440798523d499041affda": {
          "model_module": "@jupyter-widgets/controls",
          "model_name": "ProgressStyleModel",
          "model_module_version": "1.5.0",
          "state": {
            "_model_module": "@jupyter-widgets/controls",
            "_model_module_version": "1.5.0",
            "_model_name": "ProgressStyleModel",
            "_view_count": null,
            "_view_module": "@jupyter-widgets/base",
            "_view_module_version": "1.2.0",
            "_view_name": "StyleView",
            "bar_color": null,
            "description_width": ""
          }
        },
        "95cbda94ebb044189a5ccefd8af3e4b2": {
          "model_module": "@jupyter-widgets/base",
          "model_name": "LayoutModel",
          "model_module_version": "1.2.0",
          "state": {
            "_model_module": "@jupyter-widgets/base",
            "_model_module_version": "1.2.0",
            "_model_name": "LayoutModel",
            "_view_count": null,
            "_view_module": "@jupyter-widgets/base",
            "_view_module_version": "1.2.0",
            "_view_name": "LayoutView",
            "align_content": null,
            "align_items": null,
            "align_self": null,
            "border": null,
            "bottom": null,
            "display": null,
            "flex": null,
            "flex_flow": null,
            "grid_area": null,
            "grid_auto_columns": null,
            "grid_auto_flow": null,
            "grid_auto_rows": null,
            "grid_column": null,
            "grid_gap": null,
            "grid_row": null,
            "grid_template_areas": null,
            "grid_template_columns": null,
            "grid_template_rows": null,
            "height": null,
            "justify_content": null,
            "justify_items": null,
            "left": null,
            "margin": null,
            "max_height": null,
            "max_width": null,
            "min_height": null,
            "min_width": null,
            "object_fit": null,
            "object_position": null,
            "order": null,
            "overflow": null,
            "overflow_x": null,
            "overflow_y": null,
            "padding": null,
            "right": null,
            "top": null,
            "visibility": null,
            "width": null
          }
        },
        "cbf4baf0411249929764d63006cf9c95": {
          "model_module": "@jupyter-widgets/controls",
          "model_name": "DescriptionStyleModel",
          "model_module_version": "1.5.0",
          "state": {
            "_model_module": "@jupyter-widgets/controls",
            "_model_module_version": "1.5.0",
            "_model_name": "DescriptionStyleModel",
            "_view_count": null,
            "_view_module": "@jupyter-widgets/base",
            "_view_module_version": "1.2.0",
            "_view_name": "StyleView",
            "description_width": ""
          }
        },
        "72d275d7c06642db811470dd670ba454": {
          "model_module": "@jupyter-widgets/controls",
          "model_name": "HBoxModel",
          "model_module_version": "1.5.0",
          "state": {
            "_dom_classes": [],
            "_model_module": "@jupyter-widgets/controls",
            "_model_module_version": "1.5.0",
            "_model_name": "HBoxModel",
            "_view_count": null,
            "_view_module": "@jupyter-widgets/controls",
            "_view_module_version": "1.5.0",
            "_view_name": "HBoxView",
            "box_style": "",
            "children": [
              "IPY_MODEL_de8252f11ae14405a0bab71b611334e3",
              "IPY_MODEL_774ab3c9396e48f7be4b1245bc4e4e51",
              "IPY_MODEL_4bc9181f24984d4085501ea01f8c30f1"
            ],
            "layout": "IPY_MODEL_e188bf5ff2ba4ae3b99a00c21ffaff1c"
          }
        },
        "de8252f11ae14405a0bab71b611334e3": {
          "model_module": "@jupyter-widgets/controls",
          "model_name": "HTMLModel",
          "model_module_version": "1.5.0",
          "state": {
            "_dom_classes": [],
            "_model_module": "@jupyter-widgets/controls",
            "_model_module_version": "1.5.0",
            "_model_name": "HTMLModel",
            "_view_count": null,
            "_view_module": "@jupyter-widgets/controls",
            "_view_module_version": "1.5.0",
            "_view_name": "HTMLView",
            "description": "",
            "description_tooltip": null,
            "layout": "IPY_MODEL_34009cec3ef843f2b20f7800112c944c",
            "placeholder": "​",
            "style": "IPY_MODEL_2d8637258dd54da3bad8f551fcf49ca5",
            "value": "Downloading (…)solve/main/vocab.txt: 100%"
          }
        },
        "774ab3c9396e48f7be4b1245bc4e4e51": {
          "model_module": "@jupyter-widgets/controls",
          "model_name": "FloatProgressModel",
          "model_module_version": "1.5.0",
          "state": {
            "_dom_classes": [],
            "_model_module": "@jupyter-widgets/controls",
            "_model_module_version": "1.5.0",
            "_model_name": "FloatProgressModel",
            "_view_count": null,
            "_view_module": "@jupyter-widgets/controls",
            "_view_module_version": "1.5.0",
            "_view_name": "ProgressView",
            "bar_style": "success",
            "description": "",
            "description_tooltip": null,
            "layout": "IPY_MODEL_8f7d2edbb9c04fffa4b3981329518b20",
            "max": 378686,
            "min": 0,
            "orientation": "horizontal",
            "style": "IPY_MODEL_2edf98a44d74492f9a82a0115758992b",
            "value": 378686
          }
        },
        "4bc9181f24984d4085501ea01f8c30f1": {
          "model_module": "@jupyter-widgets/controls",
          "model_name": "HTMLModel",
          "model_module_version": "1.5.0",
          "state": {
            "_dom_classes": [],
            "_model_module": "@jupyter-widgets/controls",
            "_model_module_version": "1.5.0",
            "_model_name": "HTMLModel",
            "_view_count": null,
            "_view_module": "@jupyter-widgets/controls",
            "_view_module_version": "1.5.0",
            "_view_name": "HTMLView",
            "description": "",
            "description_tooltip": null,
            "layout": "IPY_MODEL_5a678e53de7d4ae6bfc078ccf3457bb0",
            "placeholder": "​",
            "style": "IPY_MODEL_40771feedfa345f38f990f5fc383256d",
            "value": " 379k/379k [00:00&lt;00:00, 4.48MB/s]"
          }
        },
        "e188bf5ff2ba4ae3b99a00c21ffaff1c": {
          "model_module": "@jupyter-widgets/base",
          "model_name": "LayoutModel",
          "model_module_version": "1.2.0",
          "state": {
            "_model_module": "@jupyter-widgets/base",
            "_model_module_version": "1.2.0",
            "_model_name": "LayoutModel",
            "_view_count": null,
            "_view_module": "@jupyter-widgets/base",
            "_view_module_version": "1.2.0",
            "_view_name": "LayoutView",
            "align_content": null,
            "align_items": null,
            "align_self": null,
            "border": null,
            "bottom": null,
            "display": null,
            "flex": null,
            "flex_flow": null,
            "grid_area": null,
            "grid_auto_columns": null,
            "grid_auto_flow": null,
            "grid_auto_rows": null,
            "grid_column": null,
            "grid_gap": null,
            "grid_row": null,
            "grid_template_areas": null,
            "grid_template_columns": null,
            "grid_template_rows": null,
            "height": null,
            "justify_content": null,
            "justify_items": null,
            "left": null,
            "margin": null,
            "max_height": null,
            "max_width": null,
            "min_height": null,
            "min_width": null,
            "object_fit": null,
            "object_position": null,
            "order": null,
            "overflow": null,
            "overflow_x": null,
            "overflow_y": null,
            "padding": null,
            "right": null,
            "top": null,
            "visibility": null,
            "width": null
          }
        },
        "34009cec3ef843f2b20f7800112c944c": {
          "model_module": "@jupyter-widgets/base",
          "model_name": "LayoutModel",
          "model_module_version": "1.2.0",
          "state": {
            "_model_module": "@jupyter-widgets/base",
            "_model_module_version": "1.2.0",
            "_model_name": "LayoutModel",
            "_view_count": null,
            "_view_module": "@jupyter-widgets/base",
            "_view_module_version": "1.2.0",
            "_view_name": "LayoutView",
            "align_content": null,
            "align_items": null,
            "align_self": null,
            "border": null,
            "bottom": null,
            "display": null,
            "flex": null,
            "flex_flow": null,
            "grid_area": null,
            "grid_auto_columns": null,
            "grid_auto_flow": null,
            "grid_auto_rows": null,
            "grid_column": null,
            "grid_gap": null,
            "grid_row": null,
            "grid_template_areas": null,
            "grid_template_columns": null,
            "grid_template_rows": null,
            "height": null,
            "justify_content": null,
            "justify_items": null,
            "left": null,
            "margin": null,
            "max_height": null,
            "max_width": null,
            "min_height": null,
            "min_width": null,
            "object_fit": null,
            "object_position": null,
            "order": null,
            "overflow": null,
            "overflow_x": null,
            "overflow_y": null,
            "padding": null,
            "right": null,
            "top": null,
            "visibility": null,
            "width": null
          }
        },
        "2d8637258dd54da3bad8f551fcf49ca5": {
          "model_module": "@jupyter-widgets/controls",
          "model_name": "DescriptionStyleModel",
          "model_module_version": "1.5.0",
          "state": {
            "_model_module": "@jupyter-widgets/controls",
            "_model_module_version": "1.5.0",
            "_model_name": "DescriptionStyleModel",
            "_view_count": null,
            "_view_module": "@jupyter-widgets/base",
            "_view_module_version": "1.2.0",
            "_view_name": "StyleView",
            "description_width": ""
          }
        },
        "8f7d2edbb9c04fffa4b3981329518b20": {
          "model_module": "@jupyter-widgets/base",
          "model_name": "LayoutModel",
          "model_module_version": "1.2.0",
          "state": {
            "_model_module": "@jupyter-widgets/base",
            "_model_module_version": "1.2.0",
            "_model_name": "LayoutModel",
            "_view_count": null,
            "_view_module": "@jupyter-widgets/base",
            "_view_module_version": "1.2.0",
            "_view_name": "LayoutView",
            "align_content": null,
            "align_items": null,
            "align_self": null,
            "border": null,
            "bottom": null,
            "display": null,
            "flex": null,
            "flex_flow": null,
            "grid_area": null,
            "grid_auto_columns": null,
            "grid_auto_flow": null,
            "grid_auto_rows": null,
            "grid_column": null,
            "grid_gap": null,
            "grid_row": null,
            "grid_template_areas": null,
            "grid_template_columns": null,
            "grid_template_rows": null,
            "height": null,
            "justify_content": null,
            "justify_items": null,
            "left": null,
            "margin": null,
            "max_height": null,
            "max_width": null,
            "min_height": null,
            "min_width": null,
            "object_fit": null,
            "object_position": null,
            "order": null,
            "overflow": null,
            "overflow_x": null,
            "overflow_y": null,
            "padding": null,
            "right": null,
            "top": null,
            "visibility": null,
            "width": null
          }
        },
        "2edf98a44d74492f9a82a0115758992b": {
          "model_module": "@jupyter-widgets/controls",
          "model_name": "ProgressStyleModel",
          "model_module_version": "1.5.0",
          "state": {
            "_model_module": "@jupyter-widgets/controls",
            "_model_module_version": "1.5.0",
            "_model_name": "ProgressStyleModel",
            "_view_count": null,
            "_view_module": "@jupyter-widgets/base",
            "_view_module_version": "1.2.0",
            "_view_name": "StyleView",
            "bar_color": null,
            "description_width": ""
          }
        },
        "5a678e53de7d4ae6bfc078ccf3457bb0": {
          "model_module": "@jupyter-widgets/base",
          "model_name": "LayoutModel",
          "model_module_version": "1.2.0",
          "state": {
            "_model_module": "@jupyter-widgets/base",
            "_model_module_version": "1.2.0",
            "_model_name": "LayoutModel",
            "_view_count": null,
            "_view_module": "@jupyter-widgets/base",
            "_view_module_version": "1.2.0",
            "_view_name": "LayoutView",
            "align_content": null,
            "align_items": null,
            "align_self": null,
            "border": null,
            "bottom": null,
            "display": null,
            "flex": null,
            "flex_flow": null,
            "grid_area": null,
            "grid_auto_columns": null,
            "grid_auto_flow": null,
            "grid_auto_rows": null,
            "grid_column": null,
            "grid_gap": null,
            "grid_row": null,
            "grid_template_areas": null,
            "grid_template_columns": null,
            "grid_template_rows": null,
            "height": null,
            "justify_content": null,
            "justify_items": null,
            "left": null,
            "margin": null,
            "max_height": null,
            "max_width": null,
            "min_height": null,
            "min_width": null,
            "object_fit": null,
            "object_position": null,
            "order": null,
            "overflow": null,
            "overflow_x": null,
            "overflow_y": null,
            "padding": null,
            "right": null,
            "top": null,
            "visibility": null,
            "width": null
          }
        },
        "40771feedfa345f38f990f5fc383256d": {
          "model_module": "@jupyter-widgets/controls",
          "model_name": "DescriptionStyleModel",
          "model_module_version": "1.5.0",
          "state": {
            "_model_module": "@jupyter-widgets/controls",
            "_model_module_version": "1.5.0",
            "_model_name": "DescriptionStyleModel",
            "_view_count": null,
            "_view_module": "@jupyter-widgets/base",
            "_view_module_version": "1.2.0",
            "_view_name": "StyleView",
            "description_width": ""
          }
        },
        "6f82f7671acb4d3998ab1c1a38630b04": {
          "model_module": "@jupyter-widgets/controls",
          "model_name": "HBoxModel",
          "model_module_version": "1.5.0",
          "state": {
            "_dom_classes": [],
            "_model_module": "@jupyter-widgets/controls",
            "_model_module_version": "1.5.0",
            "_model_name": "HBoxModel",
            "_view_count": null,
            "_view_module": "@jupyter-widgets/controls",
            "_view_module_version": "1.5.0",
            "_view_name": "HBoxView",
            "box_style": "",
            "children": [
              "IPY_MODEL_ceffbc08bd2948e38ba35a138da2aebb",
              "IPY_MODEL_13f464c9929148e2ba495635767fa465",
              "IPY_MODEL_4e55de8136f34ae4bd3caddd44573a35"
            ],
            "layout": "IPY_MODEL_aa84e4a7ec164563866a43a7f7c8c1db"
          }
        },
        "ceffbc08bd2948e38ba35a138da2aebb": {
          "model_module": "@jupyter-widgets/controls",
          "model_name": "HTMLModel",
          "model_module_version": "1.5.0",
          "state": {
            "_dom_classes": [],
            "_model_module": "@jupyter-widgets/controls",
            "_model_module_version": "1.5.0",
            "_model_name": "HTMLModel",
            "_view_count": null,
            "_view_module": "@jupyter-widgets/controls",
            "_view_module_version": "1.5.0",
            "_view_name": "HTMLView",
            "description": "",
            "description_tooltip": null,
            "layout": "IPY_MODEL_a2faaf3c2fd249639b7c5d34bfce1604",
            "placeholder": "​",
            "style": "IPY_MODEL_613846873c624e41af39f32e1196b325",
            "value": "Downloading (…)cial_tokens_map.json: 100%"
          }
        },
        "13f464c9929148e2ba495635767fa465": {
          "model_module": "@jupyter-widgets/controls",
          "model_name": "FloatProgressModel",
          "model_module_version": "1.5.0",
          "state": {
            "_dom_classes": [],
            "_model_module": "@jupyter-widgets/controls",
            "_model_module_version": "1.5.0",
            "_model_name": "FloatProgressModel",
            "_view_count": null,
            "_view_module": "@jupyter-widgets/controls",
            "_view_module_version": "1.5.0",
            "_view_name": "ProgressView",
            "bar_style": "success",
            "description": "",
            "description_tooltip": null,
            "layout": "IPY_MODEL_00d958f51d4b4d47a0dd339eaf3f2353",
            "max": 125,
            "min": 0,
            "orientation": "horizontal",
            "style": "IPY_MODEL_32d008149e6543fda39fa61bbc39165f",
            "value": 125
          }
        },
        "4e55de8136f34ae4bd3caddd44573a35": {
          "model_module": "@jupyter-widgets/controls",
          "model_name": "HTMLModel",
          "model_module_version": "1.5.0",
          "state": {
            "_dom_classes": [],
            "_model_module": "@jupyter-widgets/controls",
            "_model_module_version": "1.5.0",
            "_model_name": "HTMLModel",
            "_view_count": null,
            "_view_module": "@jupyter-widgets/controls",
            "_view_module_version": "1.5.0",
            "_view_name": "HTMLView",
            "description": "",
            "description_tooltip": null,
            "layout": "IPY_MODEL_f3a7fe9ea740454d99249bb2b511b868",
            "placeholder": "​",
            "style": "IPY_MODEL_c5cffd97f92c4a40addc8323f9bb45f6",
            "value": " 125/125 [00:00&lt;00:00, 10.6kB/s]"
          }
        },
        "aa84e4a7ec164563866a43a7f7c8c1db": {
          "model_module": "@jupyter-widgets/base",
          "model_name": "LayoutModel",
          "model_module_version": "1.2.0",
          "state": {
            "_model_module": "@jupyter-widgets/base",
            "_model_module_version": "1.2.0",
            "_model_name": "LayoutModel",
            "_view_count": null,
            "_view_module": "@jupyter-widgets/base",
            "_view_module_version": "1.2.0",
            "_view_name": "LayoutView",
            "align_content": null,
            "align_items": null,
            "align_self": null,
            "border": null,
            "bottom": null,
            "display": null,
            "flex": null,
            "flex_flow": null,
            "grid_area": null,
            "grid_auto_columns": null,
            "grid_auto_flow": null,
            "grid_auto_rows": null,
            "grid_column": null,
            "grid_gap": null,
            "grid_row": null,
            "grid_template_areas": null,
            "grid_template_columns": null,
            "grid_template_rows": null,
            "height": null,
            "justify_content": null,
            "justify_items": null,
            "left": null,
            "margin": null,
            "max_height": null,
            "max_width": null,
            "min_height": null,
            "min_width": null,
            "object_fit": null,
            "object_position": null,
            "order": null,
            "overflow": null,
            "overflow_x": null,
            "overflow_y": null,
            "padding": null,
            "right": null,
            "top": null,
            "visibility": null,
            "width": null
          }
        },
        "a2faaf3c2fd249639b7c5d34bfce1604": {
          "model_module": "@jupyter-widgets/base",
          "model_name": "LayoutModel",
          "model_module_version": "1.2.0",
          "state": {
            "_model_module": "@jupyter-widgets/base",
            "_model_module_version": "1.2.0",
            "_model_name": "LayoutModel",
            "_view_count": null,
            "_view_module": "@jupyter-widgets/base",
            "_view_module_version": "1.2.0",
            "_view_name": "LayoutView",
            "align_content": null,
            "align_items": null,
            "align_self": null,
            "border": null,
            "bottom": null,
            "display": null,
            "flex": null,
            "flex_flow": null,
            "grid_area": null,
            "grid_auto_columns": null,
            "grid_auto_flow": null,
            "grid_auto_rows": null,
            "grid_column": null,
            "grid_gap": null,
            "grid_row": null,
            "grid_template_areas": null,
            "grid_template_columns": null,
            "grid_template_rows": null,
            "height": null,
            "justify_content": null,
            "justify_items": null,
            "left": null,
            "margin": null,
            "max_height": null,
            "max_width": null,
            "min_height": null,
            "min_width": null,
            "object_fit": null,
            "object_position": null,
            "order": null,
            "overflow": null,
            "overflow_x": null,
            "overflow_y": null,
            "padding": null,
            "right": null,
            "top": null,
            "visibility": null,
            "width": null
          }
        },
        "613846873c624e41af39f32e1196b325": {
          "model_module": "@jupyter-widgets/controls",
          "model_name": "DescriptionStyleModel",
          "model_module_version": "1.5.0",
          "state": {
            "_model_module": "@jupyter-widgets/controls",
            "_model_module_version": "1.5.0",
            "_model_name": "DescriptionStyleModel",
            "_view_count": null,
            "_view_module": "@jupyter-widgets/base",
            "_view_module_version": "1.2.0",
            "_view_name": "StyleView",
            "description_width": ""
          }
        },
        "00d958f51d4b4d47a0dd339eaf3f2353": {
          "model_module": "@jupyter-widgets/base",
          "model_name": "LayoutModel",
          "model_module_version": "1.2.0",
          "state": {
            "_model_module": "@jupyter-widgets/base",
            "_model_module_version": "1.2.0",
            "_model_name": "LayoutModel",
            "_view_count": null,
            "_view_module": "@jupyter-widgets/base",
            "_view_module_version": "1.2.0",
            "_view_name": "LayoutView",
            "align_content": null,
            "align_items": null,
            "align_self": null,
            "border": null,
            "bottom": null,
            "display": null,
            "flex": null,
            "flex_flow": null,
            "grid_area": null,
            "grid_auto_columns": null,
            "grid_auto_flow": null,
            "grid_auto_rows": null,
            "grid_column": null,
            "grid_gap": null,
            "grid_row": null,
            "grid_template_areas": null,
            "grid_template_columns": null,
            "grid_template_rows": null,
            "height": null,
            "justify_content": null,
            "justify_items": null,
            "left": null,
            "margin": null,
            "max_height": null,
            "max_width": null,
            "min_height": null,
            "min_width": null,
            "object_fit": null,
            "object_position": null,
            "order": null,
            "overflow": null,
            "overflow_x": null,
            "overflow_y": null,
            "padding": null,
            "right": null,
            "top": null,
            "visibility": null,
            "width": null
          }
        },
        "32d008149e6543fda39fa61bbc39165f": {
          "model_module": "@jupyter-widgets/controls",
          "model_name": "ProgressStyleModel",
          "model_module_version": "1.5.0",
          "state": {
            "_model_module": "@jupyter-widgets/controls",
            "_model_module_version": "1.5.0",
            "_model_name": "ProgressStyleModel",
            "_view_count": null,
            "_view_module": "@jupyter-widgets/base",
            "_view_module_version": "1.2.0",
            "_view_name": "StyleView",
            "bar_color": null,
            "description_width": ""
          }
        },
        "f3a7fe9ea740454d99249bb2b511b868": {
          "model_module": "@jupyter-widgets/base",
          "model_name": "LayoutModel",
          "model_module_version": "1.2.0",
          "state": {
            "_model_module": "@jupyter-widgets/base",
            "_model_module_version": "1.2.0",
            "_model_name": "LayoutModel",
            "_view_count": null,
            "_view_module": "@jupyter-widgets/base",
            "_view_module_version": "1.2.0",
            "_view_name": "LayoutView",
            "align_content": null,
            "align_items": null,
            "align_self": null,
            "border": null,
            "bottom": null,
            "display": null,
            "flex": null,
            "flex_flow": null,
            "grid_area": null,
            "grid_auto_columns": null,
            "grid_auto_flow": null,
            "grid_auto_rows": null,
            "grid_column": null,
            "grid_gap": null,
            "grid_row": null,
            "grid_template_areas": null,
            "grid_template_columns": null,
            "grid_template_rows": null,
            "height": null,
            "justify_content": null,
            "justify_items": null,
            "left": null,
            "margin": null,
            "max_height": null,
            "max_width": null,
            "min_height": null,
            "min_width": null,
            "object_fit": null,
            "object_position": null,
            "order": null,
            "overflow": null,
            "overflow_x": null,
            "overflow_y": null,
            "padding": null,
            "right": null,
            "top": null,
            "visibility": null,
            "width": null
          }
        },
        "c5cffd97f92c4a40addc8323f9bb45f6": {
          "model_module": "@jupyter-widgets/controls",
          "model_name": "DescriptionStyleModel",
          "model_module_version": "1.5.0",
          "state": {
            "_model_module": "@jupyter-widgets/controls",
            "_model_module_version": "1.5.0",
            "_model_name": "DescriptionStyleModel",
            "_view_count": null,
            "_view_module": "@jupyter-widgets/base",
            "_view_module_version": "1.2.0",
            "_view_name": "StyleView",
            "description_width": ""
          }
        },
        "2864b0b21b39490e85a0fae338bae724": {
          "model_module": "@jupyter-widgets/controls",
          "model_name": "HBoxModel",
          "model_module_version": "1.5.0",
          "state": {
            "_dom_classes": [],
            "_model_module": "@jupyter-widgets/controls",
            "_model_module_version": "1.5.0",
            "_model_name": "HBoxModel",
            "_view_count": null,
            "_view_module": "@jupyter-widgets/controls",
            "_view_module_version": "1.5.0",
            "_view_name": "HBoxView",
            "box_style": "",
            "children": [
              "IPY_MODEL_a5086ff8c2ea48db87decaff2fc8faf4",
              "IPY_MODEL_9fe872182dc1471a923415b0851ec379",
              "IPY_MODEL_88032c0ff4644792bd8ce6a47b23b485"
            ],
            "layout": "IPY_MODEL_6a2e4f3459434b648d961459574840f8"
          }
        },
        "a5086ff8c2ea48db87decaff2fc8faf4": {
          "model_module": "@jupyter-widgets/controls",
          "model_name": "HTMLModel",
          "model_module_version": "1.5.0",
          "state": {
            "_dom_classes": [],
            "_model_module": "@jupyter-widgets/controls",
            "_model_module_version": "1.5.0",
            "_model_name": "HTMLModel",
            "_view_count": null,
            "_view_module": "@jupyter-widgets/controls",
            "_view_module_version": "1.5.0",
            "_view_name": "HTMLView",
            "description": "",
            "description_tooltip": null,
            "layout": "IPY_MODEL_7377f313194e4c6a81f02790766bb541",
            "placeholder": "​",
            "style": "IPY_MODEL_724818fc26d3494e80b862d446a08cb5",
            "value": "Downloading (…)lve/main/config.json: 100%"
          }
        },
        "9fe872182dc1471a923415b0851ec379": {
          "model_module": "@jupyter-widgets/controls",
          "model_name": "FloatProgressModel",
          "model_module_version": "1.5.0",
          "state": {
            "_dom_classes": [],
            "_model_module": "@jupyter-widgets/controls",
            "_model_module_version": "1.5.0",
            "_model_name": "FloatProgressModel",
            "_view_count": null,
            "_view_module": "@jupyter-widgets/controls",
            "_view_module_version": "1.5.0",
            "_view_name": "ProgressView",
            "bar_style": "success",
            "description": "",
            "description_tooltip": null,
            "layout": "IPY_MODEL_a7b9e1e3777544f998dffa7a47acba75",
            "max": 675,
            "min": 0,
            "orientation": "horizontal",
            "style": "IPY_MODEL_4a9105bc0c8444d1ba4a5e0bd3009272",
            "value": 675
          }
        },
        "88032c0ff4644792bd8ce6a47b23b485": {
          "model_module": "@jupyter-widgets/controls",
          "model_name": "HTMLModel",
          "model_module_version": "1.5.0",
          "state": {
            "_dom_classes": [],
            "_model_module": "@jupyter-widgets/controls",
            "_model_module_version": "1.5.0",
            "_model_name": "HTMLModel",
            "_view_count": null,
            "_view_module": "@jupyter-widgets/controls",
            "_view_module_version": "1.5.0",
            "_view_name": "HTMLView",
            "description": "",
            "description_tooltip": null,
            "layout": "IPY_MODEL_b2f25b7543914554988d11b3ea197de9",
            "placeholder": "​",
            "style": "IPY_MODEL_ed227025a49143ac8fa87d8c28131ecc",
            "value": " 675/675 [00:00&lt;00:00, 56.4kB/s]"
          }
        },
        "6a2e4f3459434b648d961459574840f8": {
          "model_module": "@jupyter-widgets/base",
          "model_name": "LayoutModel",
          "model_module_version": "1.2.0",
          "state": {
            "_model_module": "@jupyter-widgets/base",
            "_model_module_version": "1.2.0",
            "_model_name": "LayoutModel",
            "_view_count": null,
            "_view_module": "@jupyter-widgets/base",
            "_view_module_version": "1.2.0",
            "_view_name": "LayoutView",
            "align_content": null,
            "align_items": null,
            "align_self": null,
            "border": null,
            "bottom": null,
            "display": null,
            "flex": null,
            "flex_flow": null,
            "grid_area": null,
            "grid_auto_columns": null,
            "grid_auto_flow": null,
            "grid_auto_rows": null,
            "grid_column": null,
            "grid_gap": null,
            "grid_row": null,
            "grid_template_areas": null,
            "grid_template_columns": null,
            "grid_template_rows": null,
            "height": null,
            "justify_content": null,
            "justify_items": null,
            "left": null,
            "margin": null,
            "max_height": null,
            "max_width": null,
            "min_height": null,
            "min_width": null,
            "object_fit": null,
            "object_position": null,
            "order": null,
            "overflow": null,
            "overflow_x": null,
            "overflow_y": null,
            "padding": null,
            "right": null,
            "top": null,
            "visibility": null,
            "width": null
          }
        },
        "7377f313194e4c6a81f02790766bb541": {
          "model_module": "@jupyter-widgets/base",
          "model_name": "LayoutModel",
          "model_module_version": "1.2.0",
          "state": {
            "_model_module": "@jupyter-widgets/base",
            "_model_module_version": "1.2.0",
            "_model_name": "LayoutModel",
            "_view_count": null,
            "_view_module": "@jupyter-widgets/base",
            "_view_module_version": "1.2.0",
            "_view_name": "LayoutView",
            "align_content": null,
            "align_items": null,
            "align_self": null,
            "border": null,
            "bottom": null,
            "display": null,
            "flex": null,
            "flex_flow": null,
            "grid_area": null,
            "grid_auto_columns": null,
            "grid_auto_flow": null,
            "grid_auto_rows": null,
            "grid_column": null,
            "grid_gap": null,
            "grid_row": null,
            "grid_template_areas": null,
            "grid_template_columns": null,
            "grid_template_rows": null,
            "height": null,
            "justify_content": null,
            "justify_items": null,
            "left": null,
            "margin": null,
            "max_height": null,
            "max_width": null,
            "min_height": null,
            "min_width": null,
            "object_fit": null,
            "object_position": null,
            "order": null,
            "overflow": null,
            "overflow_x": null,
            "overflow_y": null,
            "padding": null,
            "right": null,
            "top": null,
            "visibility": null,
            "width": null
          }
        },
        "724818fc26d3494e80b862d446a08cb5": {
          "model_module": "@jupyter-widgets/controls",
          "model_name": "DescriptionStyleModel",
          "model_module_version": "1.5.0",
          "state": {
            "_model_module": "@jupyter-widgets/controls",
            "_model_module_version": "1.5.0",
            "_model_name": "DescriptionStyleModel",
            "_view_count": null,
            "_view_module": "@jupyter-widgets/base",
            "_view_module_version": "1.2.0",
            "_view_name": "StyleView",
            "description_width": ""
          }
        },
        "a7b9e1e3777544f998dffa7a47acba75": {
          "model_module": "@jupyter-widgets/base",
          "model_name": "LayoutModel",
          "model_module_version": "1.2.0",
          "state": {
            "_model_module": "@jupyter-widgets/base",
            "_model_module_version": "1.2.0",
            "_model_name": "LayoutModel",
            "_view_count": null,
            "_view_module": "@jupyter-widgets/base",
            "_view_module_version": "1.2.0",
            "_view_name": "LayoutView",
            "align_content": null,
            "align_items": null,
            "align_self": null,
            "border": null,
            "bottom": null,
            "display": null,
            "flex": null,
            "flex_flow": null,
            "grid_area": null,
            "grid_auto_columns": null,
            "grid_auto_flow": null,
            "grid_auto_rows": null,
            "grid_column": null,
            "grid_gap": null,
            "grid_row": null,
            "grid_template_areas": null,
            "grid_template_columns": null,
            "grid_template_rows": null,
            "height": null,
            "justify_content": null,
            "justify_items": null,
            "left": null,
            "margin": null,
            "max_height": null,
            "max_width": null,
            "min_height": null,
            "min_width": null,
            "object_fit": null,
            "object_position": null,
            "order": null,
            "overflow": null,
            "overflow_x": null,
            "overflow_y": null,
            "padding": null,
            "right": null,
            "top": null,
            "visibility": null,
            "width": null
          }
        },
        "4a9105bc0c8444d1ba4a5e0bd3009272": {
          "model_module": "@jupyter-widgets/controls",
          "model_name": "ProgressStyleModel",
          "model_module_version": "1.5.0",
          "state": {
            "_model_module": "@jupyter-widgets/controls",
            "_model_module_version": "1.5.0",
            "_model_name": "ProgressStyleModel",
            "_view_count": null,
            "_view_module": "@jupyter-widgets/base",
            "_view_module_version": "1.2.0",
            "_view_name": "StyleView",
            "bar_color": null,
            "description_width": ""
          }
        },
        "b2f25b7543914554988d11b3ea197de9": {
          "model_module": "@jupyter-widgets/base",
          "model_name": "LayoutModel",
          "model_module_version": "1.2.0",
          "state": {
            "_model_module": "@jupyter-widgets/base",
            "_model_module_version": "1.2.0",
            "_model_name": "LayoutModel",
            "_view_count": null,
            "_view_module": "@jupyter-widgets/base",
            "_view_module_version": "1.2.0",
            "_view_name": "LayoutView",
            "align_content": null,
            "align_items": null,
            "align_self": null,
            "border": null,
            "bottom": null,
            "display": null,
            "flex": null,
            "flex_flow": null,
            "grid_area": null,
            "grid_auto_columns": null,
            "grid_auto_flow": null,
            "grid_auto_rows": null,
            "grid_column": null,
            "grid_gap": null,
            "grid_row": null,
            "grid_template_areas": null,
            "grid_template_columns": null,
            "grid_template_rows": null,
            "height": null,
            "justify_content": null,
            "justify_items": null,
            "left": null,
            "margin": null,
            "max_height": null,
            "max_width": null,
            "min_height": null,
            "min_width": null,
            "object_fit": null,
            "object_position": null,
            "order": null,
            "overflow": null,
            "overflow_x": null,
            "overflow_y": null,
            "padding": null,
            "right": null,
            "top": null,
            "visibility": null,
            "width": null
          }
        },
        "ed227025a49143ac8fa87d8c28131ecc": {
          "model_module": "@jupyter-widgets/controls",
          "model_name": "DescriptionStyleModel",
          "model_module_version": "1.5.0",
          "state": {
            "_model_module": "@jupyter-widgets/controls",
            "_model_module_version": "1.5.0",
            "_model_name": "DescriptionStyleModel",
            "_view_count": null,
            "_view_module": "@jupyter-widgets/base",
            "_view_module_version": "1.2.0",
            "_view_name": "StyleView",
            "description_width": ""
          }
        },
        "09949c3893f04681a3540178fedb22cd": {
          "model_module": "@jupyter-widgets/controls",
          "model_name": "HBoxModel",
          "model_module_version": "1.5.0",
          "state": {
            "_dom_classes": [],
            "_model_module": "@jupyter-widgets/controls",
            "_model_module_version": "1.5.0",
            "_model_name": "HBoxModel",
            "_view_count": null,
            "_view_module": "@jupyter-widgets/controls",
            "_view_module_version": "1.5.0",
            "_view_name": "HBoxView",
            "box_style": "",
            "children": [
              "IPY_MODEL_3a75cee11a0748fba19e730453aa9612",
              "IPY_MODEL_16f680a2ac004e92971558e4d966ac45",
              "IPY_MODEL_dc3fe73bd08b4932b2262324b8ce58d9"
            ],
            "layout": "IPY_MODEL_691d1e7b30414ddb841e5cd1710bf344"
          }
        },
        "3a75cee11a0748fba19e730453aa9612": {
          "model_module": "@jupyter-widgets/controls",
          "model_name": "HTMLModel",
          "model_module_version": "1.5.0",
          "state": {
            "_dom_classes": [],
            "_model_module": "@jupyter-widgets/controls",
            "_model_module_version": "1.5.0",
            "_model_name": "HTMLModel",
            "_view_count": null,
            "_view_module": "@jupyter-widgets/controls",
            "_view_module_version": "1.5.0",
            "_view_name": "HTMLView",
            "description": "",
            "description_tooltip": null,
            "layout": "IPY_MODEL_823dcf326a0743a6a7ddf0a3f42c2b5d",
            "placeholder": "​",
            "style": "IPY_MODEL_88e71495957045dc876aae3f1e0e1dba",
            "value": "Downloading pytorch_model.bin: 100%"
          }
        },
        "16f680a2ac004e92971558e4d966ac45": {
          "model_module": "@jupyter-widgets/controls",
          "model_name": "FloatProgressModel",
          "model_module_version": "1.5.0",
          "state": {
            "_dom_classes": [],
            "_model_module": "@jupyter-widgets/controls",
            "_model_module_version": "1.5.0",
            "_model_name": "FloatProgressModel",
            "_view_count": null,
            "_view_module": "@jupyter-widgets/controls",
            "_view_module_version": "1.5.0",
            "_view_name": "ProgressView",
            "bar_style": "success",
            "description": "",
            "description_tooltip": null,
            "layout": "IPY_MODEL_3a0d6621ab924b9abf0cfe27e0b128f1",
            "max": 1421196849,
            "min": 0,
            "orientation": "horizontal",
            "style": "IPY_MODEL_0e4924ff6b7341dea1e61a1c00e69090",
            "value": 1421196849
          }
        },
        "dc3fe73bd08b4932b2262324b8ce58d9": {
          "model_module": "@jupyter-widgets/controls",
          "model_name": "HTMLModel",
          "model_module_version": "1.5.0",
          "state": {
            "_dom_classes": [],
            "_model_module": "@jupyter-widgets/controls",
            "_model_module_version": "1.5.0",
            "_model_name": "HTMLModel",
            "_view_count": null,
            "_view_module": "@jupyter-widgets/controls",
            "_view_module_version": "1.5.0",
            "_view_name": "HTMLView",
            "description": "",
            "description_tooltip": null,
            "layout": "IPY_MODEL_933677cbecff49bab41362d520de6560",
            "placeholder": "​",
            "style": "IPY_MODEL_ee2f67c94ddb447c9c9bb42836e69fea",
            "value": " 1.42G/1.42G [00:29&lt;00:00, 55.3MB/s]"
          }
        },
        "691d1e7b30414ddb841e5cd1710bf344": {
          "model_module": "@jupyter-widgets/base",
          "model_name": "LayoutModel",
          "model_module_version": "1.2.0",
          "state": {
            "_model_module": "@jupyter-widgets/base",
            "_model_module_version": "1.2.0",
            "_model_name": "LayoutModel",
            "_view_count": null,
            "_view_module": "@jupyter-widgets/base",
            "_view_module_version": "1.2.0",
            "_view_name": "LayoutView",
            "align_content": null,
            "align_items": null,
            "align_self": null,
            "border": null,
            "bottom": null,
            "display": null,
            "flex": null,
            "flex_flow": null,
            "grid_area": null,
            "grid_auto_columns": null,
            "grid_auto_flow": null,
            "grid_auto_rows": null,
            "grid_column": null,
            "grid_gap": null,
            "grid_row": null,
            "grid_template_areas": null,
            "grid_template_columns": null,
            "grid_template_rows": null,
            "height": null,
            "justify_content": null,
            "justify_items": null,
            "left": null,
            "margin": null,
            "max_height": null,
            "max_width": null,
            "min_height": null,
            "min_width": null,
            "object_fit": null,
            "object_position": null,
            "order": null,
            "overflow": null,
            "overflow_x": null,
            "overflow_y": null,
            "padding": null,
            "right": null,
            "top": null,
            "visibility": null,
            "width": null
          }
        },
        "823dcf326a0743a6a7ddf0a3f42c2b5d": {
          "model_module": "@jupyter-widgets/base",
          "model_name": "LayoutModel",
          "model_module_version": "1.2.0",
          "state": {
            "_model_module": "@jupyter-widgets/base",
            "_model_module_version": "1.2.0",
            "_model_name": "LayoutModel",
            "_view_count": null,
            "_view_module": "@jupyter-widgets/base",
            "_view_module_version": "1.2.0",
            "_view_name": "LayoutView",
            "align_content": null,
            "align_items": null,
            "align_self": null,
            "border": null,
            "bottom": null,
            "display": null,
            "flex": null,
            "flex_flow": null,
            "grid_area": null,
            "grid_auto_columns": null,
            "grid_auto_flow": null,
            "grid_auto_rows": null,
            "grid_column": null,
            "grid_gap": null,
            "grid_row": null,
            "grid_template_areas": null,
            "grid_template_columns": null,
            "grid_template_rows": null,
            "height": null,
            "justify_content": null,
            "justify_items": null,
            "left": null,
            "margin": null,
            "max_height": null,
            "max_width": null,
            "min_height": null,
            "min_width": null,
            "object_fit": null,
            "object_position": null,
            "order": null,
            "overflow": null,
            "overflow_x": null,
            "overflow_y": null,
            "padding": null,
            "right": null,
            "top": null,
            "visibility": null,
            "width": null
          }
        },
        "88e71495957045dc876aae3f1e0e1dba": {
          "model_module": "@jupyter-widgets/controls",
          "model_name": "DescriptionStyleModel",
          "model_module_version": "1.5.0",
          "state": {
            "_model_module": "@jupyter-widgets/controls",
            "_model_module_version": "1.5.0",
            "_model_name": "DescriptionStyleModel",
            "_view_count": null,
            "_view_module": "@jupyter-widgets/base",
            "_view_module_version": "1.2.0",
            "_view_name": "StyleView",
            "description_width": ""
          }
        },
        "3a0d6621ab924b9abf0cfe27e0b128f1": {
          "model_module": "@jupyter-widgets/base",
          "model_name": "LayoutModel",
          "model_module_version": "1.2.0",
          "state": {
            "_model_module": "@jupyter-widgets/base",
            "_model_module_version": "1.2.0",
            "_model_name": "LayoutModel",
            "_view_count": null,
            "_view_module": "@jupyter-widgets/base",
            "_view_module_version": "1.2.0",
            "_view_name": "LayoutView",
            "align_content": null,
            "align_items": null,
            "align_self": null,
            "border": null,
            "bottom": null,
            "display": null,
            "flex": null,
            "flex_flow": null,
            "grid_area": null,
            "grid_auto_columns": null,
            "grid_auto_flow": null,
            "grid_auto_rows": null,
            "grid_column": null,
            "grid_gap": null,
            "grid_row": null,
            "grid_template_areas": null,
            "grid_template_columns": null,
            "grid_template_rows": null,
            "height": null,
            "justify_content": null,
            "justify_items": null,
            "left": null,
            "margin": null,
            "max_height": null,
            "max_width": null,
            "min_height": null,
            "min_width": null,
            "object_fit": null,
            "object_position": null,
            "order": null,
            "overflow": null,
            "overflow_x": null,
            "overflow_y": null,
            "padding": null,
            "right": null,
            "top": null,
            "visibility": null,
            "width": null
          }
        },
        "0e4924ff6b7341dea1e61a1c00e69090": {
          "model_module": "@jupyter-widgets/controls",
          "model_name": "ProgressStyleModel",
          "model_module_version": "1.5.0",
          "state": {
            "_model_module": "@jupyter-widgets/controls",
            "_model_module_version": "1.5.0",
            "_model_name": "ProgressStyleModel",
            "_view_count": null,
            "_view_module": "@jupyter-widgets/base",
            "_view_module_version": "1.2.0",
            "_view_name": "StyleView",
            "bar_color": null,
            "description_width": ""
          }
        },
        "933677cbecff49bab41362d520de6560": {
          "model_module": "@jupyter-widgets/base",
          "model_name": "LayoutModel",
          "model_module_version": "1.2.0",
          "state": {
            "_model_module": "@jupyter-widgets/base",
            "_model_module_version": "1.2.0",
            "_model_name": "LayoutModel",
            "_view_count": null,
            "_view_module": "@jupyter-widgets/base",
            "_view_module_version": "1.2.0",
            "_view_name": "LayoutView",
            "align_content": null,
            "align_items": null,
            "align_self": null,
            "border": null,
            "bottom": null,
            "display": null,
            "flex": null,
            "flex_flow": null,
            "grid_area": null,
            "grid_auto_columns": null,
            "grid_auto_flow": null,
            "grid_auto_rows": null,
            "grid_column": null,
            "grid_gap": null,
            "grid_row": null,
            "grid_template_areas": null,
            "grid_template_columns": null,
            "grid_template_rows": null,
            "height": null,
            "justify_content": null,
            "justify_items": null,
            "left": null,
            "margin": null,
            "max_height": null,
            "max_width": null,
            "min_height": null,
            "min_width": null,
            "object_fit": null,
            "object_position": null,
            "order": null,
            "overflow": null,
            "overflow_x": null,
            "overflow_y": null,
            "padding": null,
            "right": null,
            "top": null,
            "visibility": null,
            "width": null
          }
        },
        "ee2f67c94ddb447c9c9bb42836e69fea": {
          "model_module": "@jupyter-widgets/controls",
          "model_name": "DescriptionStyleModel",
          "model_module_version": "1.5.0",
          "state": {
            "_model_module": "@jupyter-widgets/controls",
            "_model_module_version": "1.5.0",
            "_model_name": "DescriptionStyleModel",
            "_view_count": null,
            "_view_module": "@jupyter-widgets/base",
            "_view_module_version": "1.2.0",
            "_view_name": "StyleView",
            "description_width": ""
          }
        }
      }
    }
  },
  "cells": [
    {
      "cell_type": "code",
      "source": [
        "!pip install datasets transformers > /dev/null"
      ],
      "metadata": {
        "id": "_hlhzENkP2lg"
      },
      "execution_count": 1,
      "outputs": []
    },
    {
      "cell_type": "code",
      "source": [
        "from transformers import AutoModelForSequenceClassification, AutoTokenizer, AutoConfig\n",
        "import numpy as np\n",
        "import pandas as pd\n",
        "import torch\n",
        "from torch.utils.data import DataLoader\n",
        "from tqdm import tqdm"
      ],
      "metadata": {
        "id": "3rW_FPHFCNyh"
      },
      "execution_count": 2,
      "outputs": []
    },
    {
      "cell_type": "code",
      "execution_count": 3,
      "metadata": {
        "id": "Lvm6Wuam8IvO",
        "colab": {
          "base_uri": "https://localhost:8080/"
        },
        "outputId": "3f412b42-eef7-47c6-b0a6-0f1e8368379b"
      },
      "outputs": [
        {
          "output_type": "stream",
          "name": "stdout",
          "text": [
            "Mounted at /content/drive/\n"
          ]
        }
      ],
      "source": [
        "from google.colab import drive\n",
        "drive.mount('/content/drive/', force_remount=True)"
      ]
    },
    {
      "cell_type": "code",
      "source": [
        "from torch.utils.data import Dataset, DataLoader\n",
        "from nltk import word_tokenize\n",
        "from collections import Counter, defaultdict\n",
        "\n",
        "class SentDataset(Dataset):\n",
        "    def __init__(self, fname, word2ix=None, df=None):\n",
        "        if df is None:\n",
        "            self.sents = pd.read_csv(fname)\n",
        "        else:\n",
        "            self.sents = df.dropna(subset=['sentence'])\n",
        "        # reset index necessary for getting context sentences when using unlabeled data\n",
        "        #self.sents = self.sents.dropna(subset=['sentence'])\n",
        "        if word2ix is not None:\n",
        "            self.word2ix = word2ix\n",
        "            self.ix2word = {ix:word for word,ix in self.word2ix.items()}\n",
        "        else:\n",
        "            self.word2ix = {'<PAD>': 0}\n",
        "            self.ix2word = {}\n",
        "            self.min_cnt = 0\n",
        "\n",
        "    def __len__(self):\n",
        "        return len(self.sents)\n",
        "\n",
        "    def __getitem__(self, idx):\n",
        "        row = self.sents.iloc[idx]\n",
        "        if row.sentence.startswith('[') and row.sentence.endswith(']'):\n",
        "            try:\n",
        "                sentence = eval(row.sentence)\n",
        "            except:\n",
        "                sentence = word_tokenize(row.sentence)\n",
        "        else:\n",
        "            assert isinstance(row.sentence, str)\n",
        "            sentence = word_tokenize(row.sentence)\n",
        "        sent = [x.lower() for x in sentence]\n",
        "        if 'labels' in row:\n",
        "          labels = eval(row.labels)\n",
        "        else:\n",
        "          labels = []\n",
        "        doc_id = row.doc_id\n",
        "        sent_ix = None\n",
        "        if 'sent_index' in row:\n",
        "            sent_ix = row.sent_index\n",
        "        elif 'sent_ix' in row:\n",
        "            sent_ix = row.sent_ix\n",
        "        return sent, labels, doc_id, sent_ix"
      ],
      "metadata": {
        "id": "YOyAoR_01S0b"
      },
      "execution_count": 4,
      "outputs": []
    },
    {
      "cell_type": "code",
      "source": [
        "# load dataset\n",
        "import ast\n",
        "def str_to_list(s):\n",
        "    # Use the ast library to safely evaluate the string as a list\n",
        "    return ast.literal_eval(s)\n",
        "\n",
        "sents = pd.read_csv(\"/content/drive/My Drive/Deep Learning Project/Dataset/clip-a-dataset-for-extracting-action-items-for-physicians-from-hospital-discharge-notes-1.0.0/sentence_level.csv\")\n",
        "\n",
        "# Apply the function to the column to convert the strings to lists\n",
        "#sents['sentence'] = sents['sentence'].apply(str_to_list)\n",
        "\n",
        "# Apply the function to the column to convert the strings to lists\n",
        "#sents['labels'] = sents['labels'].apply(str_to_list)\n",
        "train_dataset = pd.read_csv(\"/content/drive/My Drive/Deep Learning Project/Dataset/clip-a-dataset-for-extracting-action-items-for-physicians-from-hospital-discharge-notes-1.0.0/train_ids.csv\", header=None)\n",
        "test_dataset = pd.read_csv(\"/content/drive/My Drive/Deep Learning Project/Dataset/clip-a-dataset-for-extracting-action-items-for-physicians-from-hospital-discharge-notes-1.0.0/test_ids.csv\", header=None)\n",
        "eval_dataset = pd.read_csv(\"/content/drive/My Drive/Deep Learning Project/Dataset/clip-a-dataset-for-extracting-action-items-for-physicians-from-hospital-discharge-notes-1.0.0/val_ids.csv\", header=None)"
      ],
      "metadata": {
        "id": "4svg-BgcjdzE"
      },
      "execution_count": 5,
      "outputs": []
    },
    {
      "cell_type": "code",
      "source": [
        "train_dataset.columns = ['doc_id']\n",
        "train_dataset = train_dataset.merge(sents, on = \"doc_id\")\n",
        "test_dataset.columns = ['doc_id']\n",
        "test_dataset = test_dataset.merge(sents, on = \"doc_id\")\n",
        "eval_dataset.columns = ['doc_id']\n",
        "eval_dataset = eval_dataset.merge(sents, on = \"doc_id\")"
      ],
      "metadata": {
        "id": "upiBkT1P1T6u"
      },
      "execution_count": 6,
      "outputs": []
    },
    {
      "cell_type": "code",
      "source": [
        "train_dataset = SentDataset('contet',df =train_dataset)\n",
        "eval_dataset = SentDataset('content',df=eval_dataset)\n",
        "test_dataset = SentDataset('content',df=test_dataset)"
      ],
      "metadata": {
        "id": "MJnrJn5-_u4_"
      },
      "execution_count": 7,
      "outputs": []
    },
    {
      "cell_type": "code",
      "source": [
        "tokenizer1 =  AutoTokenizer.from_pretrained('AshtonIsNotHere/GatorTron-OG')"
      ],
      "metadata": {
        "id": "Z06uyBeyLQ7D",
        "colab": {
          "base_uri": "https://localhost:8080/",
          "height": 197,
          "referenced_widgets": [
            "dc511d3b9dc84a7797cec48bce28da84",
            "f3572fc282014f37a6140ca1968945a1",
            "ef8f6c5c2f3e41059c9083de673c52f9",
            "3af359f84d4642618c00e1bba6cc20fa",
            "4075300e923b4197b61eccbb8307355a",
            "d34dcb12720b4ebd93c29d13e70d21ea",
            "7f8aeb9ace754b8d8433fcb738d164b5",
            "24e64334acaf41e882236f1a64c8a592",
            "61b0a85a349440798523d499041affda",
            "95cbda94ebb044189a5ccefd8af3e4b2",
            "cbf4baf0411249929764d63006cf9c95",
            "72d275d7c06642db811470dd670ba454",
            "de8252f11ae14405a0bab71b611334e3",
            "774ab3c9396e48f7be4b1245bc4e4e51",
            "4bc9181f24984d4085501ea01f8c30f1",
            "e188bf5ff2ba4ae3b99a00c21ffaff1c",
            "34009cec3ef843f2b20f7800112c944c",
            "2d8637258dd54da3bad8f551fcf49ca5",
            "8f7d2edbb9c04fffa4b3981329518b20",
            "2edf98a44d74492f9a82a0115758992b",
            "5a678e53de7d4ae6bfc078ccf3457bb0",
            "40771feedfa345f38f990f5fc383256d",
            "6f82f7671acb4d3998ab1c1a38630b04",
            "ceffbc08bd2948e38ba35a138da2aebb",
            "13f464c9929148e2ba495635767fa465",
            "4e55de8136f34ae4bd3caddd44573a35",
            "aa84e4a7ec164563866a43a7f7c8c1db",
            "a2faaf3c2fd249639b7c5d34bfce1604",
            "613846873c624e41af39f32e1196b325",
            "00d958f51d4b4d47a0dd339eaf3f2353",
            "32d008149e6543fda39fa61bbc39165f",
            "f3a7fe9ea740454d99249bb2b511b868",
            "c5cffd97f92c4a40addc8323f9bb45f6"
          ]
        },
        "outputId": "ca65e2ac-e008-4e67-9605-90778966fe8b"
      },
      "execution_count": 8,
      "outputs": [
        {
          "output_type": "display_data",
          "data": {
            "text/plain": [
              "Downloading (…)okenizer_config.json:   0%|          | 0.00/418 [00:00<?, ?B/s]"
            ],
            "application/vnd.jupyter.widget-view+json": {
              "version_major": 2,
              "version_minor": 0,
              "model_id": "dc511d3b9dc84a7797cec48bce28da84"
            }
          },
          "metadata": {}
        },
        {
          "output_type": "display_data",
          "data": {
            "text/plain": [
              "Downloading (…)solve/main/vocab.txt:   0%|          | 0.00/379k [00:00<?, ?B/s]"
            ],
            "application/vnd.jupyter.widget-view+json": {
              "version_major": 2,
              "version_minor": 0,
              "model_id": "72d275d7c06642db811470dd670ba454"
            }
          },
          "metadata": {}
        },
        {
          "output_type": "display_data",
          "data": {
            "text/plain": [
              "Downloading (…)cial_tokens_map.json:   0%|          | 0.00/125 [00:00<?, ?B/s]"
            ],
            "application/vnd.jupyter.widget-view+json": {
              "version_major": 2,
              "version_minor": 0,
              "model_id": "6f82f7671acb4d3998ab1c1a38630b04"
            }
          },
          "metadata": {}
        }
      ]
    },
    {
      "cell_type": "markdown",
      "source": [
        "# Datasets & Dataloaders\n"
      ],
      "metadata": {
        "id": "CgQdrl2pQkno"
      }
    },
    {
      "cell_type": "code",
      "source": [
        "batch_size = 64"
      ],
      "metadata": {
        "id": "KU-tl0cIRFY-"
      },
      "execution_count": 9,
      "outputs": []
    },
    {
      "cell_type": "code",
      "source": [
        "def collator(batch, tokenizer, eval=False, doc_position=False):\n",
        "    # standard bert collator that applies the right label for the training task\n",
        "    sents = []\n",
        "    labels = []\n",
        "    doc_poses = []\n",
        "    doc_ids = []\n",
        "    sent_ixs = []\n",
        "    for sent, label, doc_id, sent_ix in batch:\n",
        "        sents.append(' '.join(sent))\n",
        "        label = multilabel_labeler(label)\n",
        "        labels.append(label)\n",
        "        doc_ids.append(doc_id)\n",
        "        sent_ixs.append(sent_ix)\n",
        "    tokd = tokenizer(sents, padding=True, max_length = 512, truncation=True)\n",
        "    input_ids, token_type_ids, attention_mask = tokd['input_ids'], tokd['token_type_ids'], tokd['attention_mask']\n",
        "    toks = torch.LongTensor(input_ids)\n",
        "    mask = torch.LongTensor(attention_mask)\n",
        "    labels = torch.Tensor(labels)\n",
        "    # for whatever reason, pytorch's cross entropy requires long labels but BCE doesn't\n",
        "    if not eval:\n",
        "        return {'input_ids': toks, 'attention_mask': mask, 'labels': labels, 'doc_ids': doc_ids, 'sent_ixs': sent_ixs}\n",
        "    else:\n",
        "        return {'input_ids': toks, 'attention_mask': mask, 'labels': labels, 'sentences': sents, 'doc_ids': doc_ids, 'sent_ixs': sent_ixs}\n",
        "\n",
        "data_collator = lambda x: collator(x, tokenizer = tokenizer1)\n",
        "eval_collate_fn = lambda x: collator(x, tokenizer =tokenizer1, eval=True)"
      ],
      "metadata": {
        "id": "Tcr3dZOuwJCG"
      },
      "execution_count": 10,
      "outputs": []
    },
    {
      "cell_type": "code",
      "source": [
        "# import torch\n",
        "# import tqdm\n",
        "\n",
        "# class BertDataset(torch.utils.data.Dataset):\n",
        "#   def __init__(self, txt_list, tokenizer, max_length=512):\n",
        "#     self.tokenizer = tokenizer\n",
        "#     self.sents = []\n",
        "#     self.labels = []\n",
        "#     self.doc_poses = []\n",
        "#     self.doc_ids = []\n",
        "#     self.sent_ixs = []\n",
        "#     self.input_ids = []\n",
        "#     self.token_type_ids = []\n",
        "#     self.attention_maks = []\n",
        "\n",
        "\n",
        "#     for doc_id, sent_ix, sent, label in tqdm.tqdm(txt_list.values, desc=\"Tokenizing data\"):\n",
        "#         #sents.append(' '.join(sent))\n",
        "#         tokd = tokenizer(sent, padding=True, max_length = 512)\n",
        "#         self.input_ids.append(torch.Tensor(tokd['input_ids']))\n",
        "#         self.token_type_ids.append(tokd['token_type_ids'])\n",
        "#         self.attention_maks.append(torch.Tensor(tokd['attention_mask']))\n",
        "#         label = multilabel_labeler(label)\n",
        "#         self.labels.append(label)\n",
        "#         self.doc_ids.append(doc_id)\n",
        "#         self.sent_ixs.append(sent_ix)\n",
        "#     self.labels = torch.Tensor(self.labels)\n",
        "    \n",
        "#   def __len__(self):\n",
        "#     return len(self.sent_ixs)\n",
        "\n",
        "#   def __getitem__(self, idx):\n",
        "#     return {'input_ids': self.input_ids[idx], 'attention_mask': self.attention_maks[idx], 'labels': self.labels[idx], 'doc_ids': self.doc_ids[idx], 'sent_ixs': self.sent_ixs[idx]} "
      ],
      "metadata": {
        "id": "PF8HQ_vbSHm5"
      },
      "execution_count": 11,
      "outputs": []
    },
    {
      "cell_type": "code",
      "source": [
        "LABEL_TYPES = ['I-Imaging-related followup',\n",
        " 'I-Appointment-related followup',\n",
        " 'I-Medication-related followups',\n",
        " 'I-Procedure-related followup',\n",
        " 'I-Lab-related followup',\n",
        " 'I-Case-specific instructions for patient',\n",
        " 'I-Other helpful contextual information',\n",
        " ]\n",
        "\n",
        "label2abbrev = {'I-Imaging-related followup': 'Imaging',\n",
        "        'I-Appointment-related followup': 'Appointment',\n",
        "        'I-Medication-related followups': 'Medication',\n",
        "        'I-Procedure-related followup': 'Procedure',\n",
        "        'I-Lab-related followup': 'Lab',\n",
        "        'I-Case-specific instructions for patient': 'Patient instructions',\n",
        "        'I-Other helpful contextual information': 'Other',\n",
        " }\n",
        "\n",
        "def multilabel_labeler(label):\n",
        "    # convert list of label names to a multi-hot array\n",
        "    if isinstance(label, str):\n",
        "        label = eval(label)\n",
        "    label_ixs = [LABEL_TYPES.index(l) for l in label]\n",
        "    label = np.zeros(len(LABEL_TYPES))\n",
        "    label[label_ixs] = 1\n",
        "    return label"
      ],
      "metadata": {
        "id": "lKjcgW8Ryz8N"
      },
      "execution_count": 12,
      "outputs": []
    },
    {
      "cell_type": "code",
      "source": [
        "\n",
        "# train_dataset = BertDataset(train_dataset, tokenizer, max_length=512, collate_fn=data_collator)\n",
        "# eval_dataset = BertDataset(eval_dataset, tokenizer, max_length=512, collate_fn=eval_collate_fn)\n",
        "\n",
        "# print()\n",
        "# print('{:>5,} training samples'.format(len(train_dataset)))\n",
        "# print('{:>5,} validation samples'.format(len(eval_dataset)))"
      ],
      "metadata": {
        "id": "f21UWyng9-Al"
      },
      "execution_count": 13,
      "outputs": []
    },
    {
      "cell_type": "code",
      "source": [
        "from torch.utils.data import DataLoader\n",
        "train_dataloader = DataLoader(\n",
        "  train_dataset,\n",
        "  batch_size=batch_size,\n",
        "  collate_fn=data_collator\n",
        ")\n",
        "\n",
        "validation_dataloader = DataLoader(\n",
        "  eval_dataset,\n",
        "  shuffle=False,\n",
        "  batch_size=1,\n",
        "  collate_fn=eval_collate_fn\n",
        ")\n",
        "\n",
        "test_dataloader = DataLoader(\n",
        "    test_dataset, batch_size=1, shuffle=False, collate_fn=eval_collate_fn\n",
        "    )"
      ],
      "metadata": {
        "id": "A4BrtN3cXp_y"
      },
      "execution_count": 14,
      "outputs": []
    },
    {
      "cell_type": "markdown",
      "source": [
        "# Finetune BERT Model"
      ],
      "metadata": {
        "id": "h2OVhp8rFGA5"
      }
    },
    {
      "cell_type": "code",
      "source": [
        "from transformers import AutoModelForSequenceClassification, AutoTokenizer, AutoConfig\n",
        "\n",
        "import torch\n",
        "import torch.nn as nn\n",
        "from torch.nn import CrossEntropyLoss, KLDivLoss\n",
        "import torch.nn.functional as F\n",
        "\n",
        "class GatorTronForSequenceMultilabelClassification(AutoModelForSequenceClassification):\n",
        "    \"\"\"\n",
        "        simple mod of MiniBERT to accept multilabel or binary task\n",
        "        there may or may not be a class in huggingface that does this but this is here for historical reasons\n",
        "    \"\"\"\n",
        "    def __init__(self, config):\n",
        "        super().__init__(config)\n",
        "        self.num_labels = config.num_labels\n",
        "\n",
        "        self.gatorTron = AutoModelForSequenceClassification.from_pretrained('AshtonIsNotHere/GatorTron-OG')\n",
        "        self.dropout = nn.Dropout(config.hidden_dropout_prob)\n",
        "        self.classifier = nn.Linear(config.hidden_size, config.num_labels)\n",
        "\n",
        "        self.init_weights()\n",
        "\n",
        "    def add_doc_position_feature(self, config):\n",
        "        self.classifier = nn.Linear(config.hidden_size+1, config.num_labels)\n",
        "\n",
        "    def set_task(self, task):\n",
        "        self.task = task\n",
        "\n",
        "    def forward(\n",
        "        self,\n",
        "        input_ids=None,\n",
        "        attention_mask=None,\n",
        "        token_type_ids=None,\n",
        "        position_ids=None,\n",
        "        head_mask=None,\n",
        "        inputs_embeds=None,\n",
        "        labels=None,\n",
        "        output_attentions=None,\n",
        "        output_hidden_states=None,\n",
        "        doc_positions=None,\n",
        "    ):\n",
        "        outputs = self.gatorTron(\n",
        "            input_ids,\n",
        "            attention_mask=attention_mask,\n",
        "            token_type_ids=token_type_ids,\n",
        "            position_ids=position_ids,\n",
        "            head_mask=head_mask,\n",
        "            inputs_embeds=inputs_embeds,\n",
        "            output_attentions=output_attentions,\n",
        "            output_hidden_states=output_hidden_states,\n",
        "        )\n",
        "\n",
        "        pooled_output = outputs[1]\n",
        "\n",
        "        pooled_output = self.dropout(pooled_output)\n",
        "        if doc_positions is not None and len(doc_positions) > 0:\n",
        "            pooled_output = torch.cat((pooled_output, doc_positions.unsqueeze(1)), dim=1)\n",
        "\n",
        "        logits = self.classifier(pooled_output)\n",
        "        #print(logits)\n",
        "\n",
        "        outputs = (logits,) + outputs[2:]  # add hidden states and attention if they are here\n",
        "\n",
        "        if labels is not None:\n",
        "            loss = F.binary_cross_entropy_with_logits(outputs[0], labels)\n",
        "            #print(loss)\n",
        "            outputs = (loss,) + outputs\n",
        "        \n",
        "        print(outputs)\n",
        "\n",
        "        return outputs\n",
        "\n",
        "\n"
      ],
      "metadata": {
        "id": "lv38x2zLTmJo"
      },
      "execution_count": 15,
      "outputs": []
    },
    {
      "cell_type": "code",
      "source": [
        "label_set = LABEL_TYPES\n",
        "num_labels = len(label_set)\n",
        "\n",
        "label2id = {label:ix for ix,label in enumerate(label_set)}\n",
        "id2label = {ix:label for label,ix in label2id.items()}\n",
        "config = AutoConfig.from_pretrained(\n",
        "        'AshtonIsNotHere/GatorTron-OG',\n",
        "        num_labels=num_labels,\n",
        "        finetuning_task=\"text_classification\",\n",
        "        label2id=label2id,\n",
        "        id2label=id2label,\n",
        "    )"
      ],
      "metadata": {
        "id": "bs7AN7UKHy5A",
        "colab": {
          "base_uri": "https://localhost:8080/",
          "height": 77,
          "referenced_widgets": [
            "2864b0b21b39490e85a0fae338bae724",
            "a5086ff8c2ea48db87decaff2fc8faf4",
            "9fe872182dc1471a923415b0851ec379",
            "88032c0ff4644792bd8ce6a47b23b485",
            "6a2e4f3459434b648d961459574840f8",
            "7377f313194e4c6a81f02790766bb541",
            "724818fc26d3494e80b862d446a08cb5",
            "a7b9e1e3777544f998dffa7a47acba75",
            "4a9105bc0c8444d1ba4a5e0bd3009272",
            "b2f25b7543914554988d11b3ea197de9",
            "ed227025a49143ac8fa87d8c28131ecc"
          ]
        },
        "outputId": "7c0219b4-ecae-4827-dec3-c6a4f34b1fa1"
      },
      "execution_count": 16,
      "outputs": [
        {
          "output_type": "display_data",
          "data": {
            "text/plain": [
              "Downloading (…)lve/main/config.json:   0%|          | 0.00/675 [00:00<?, ?B/s]"
            ],
            "application/vnd.jupyter.widget-view+json": {
              "version_major": 2,
              "version_minor": 0,
              "model_id": "2864b0b21b39490e85a0fae338bae724"
            }
          },
          "metadata": {}
        }
      ]
    },
    {
      "cell_type": "code",
      "source": [
        "import random\n",
        "model = GatorTronForSequenceMultilabelClassification.from_pretrained('AshtonIsNotHere/GatorTron-OG', config=config)\n",
        "\n",
        "# Tell pytorch to run this model on the GPU.\n",
        "device = torch.device(\"cuda\" if torch.cuda.is_available() else \"cpu\")\n",
        "model.to(device)\n",
        "\n",
        "# Set the seed value all over the place to make this reproducible.\n",
        "seed_val = 42\n",
        "\n",
        "random.seed(seed_val)\n",
        "torch.manual_seed(seed_val)\n",
        "torch.cuda.manual_seed_all(seed_val)"
      ],
      "metadata": {
        "id": "2B-HztvrJs7Q",
        "colab": {
          "base_uri": "https://localhost:8080/",
          "height": 132,
          "referenced_widgets": [
            "09949c3893f04681a3540178fedb22cd",
            "3a75cee11a0748fba19e730453aa9612",
            "16f680a2ac004e92971558e4d966ac45",
            "dc3fe73bd08b4932b2262324b8ce58d9",
            "691d1e7b30414ddb841e5cd1710bf344",
            "823dcf326a0743a6a7ddf0a3f42c2b5d",
            "88e71495957045dc876aae3f1e0e1dba",
            "3a0d6621ab924b9abf0cfe27e0b128f1",
            "0e4924ff6b7341dea1e61a1c00e69090",
            "933677cbecff49bab41362d520de6560",
            "ee2f67c94ddb447c9c9bb42836e69fea"
          ]
        },
        "outputId": "168691ee-731f-4ca2-9a49-df03869dbf99"
      },
      "execution_count": 17,
      "outputs": [
        {
          "output_type": "display_data",
          "data": {
            "text/plain": [
              "Downloading pytorch_model.bin:   0%|          | 0.00/1.42G [00:00<?, ?B/s]"
            ],
            "application/vnd.jupyter.widget-view+json": {
              "version_major": 2,
              "version_minor": 0,
              "model_id": "09949c3893f04681a3540178fedb22cd"
            }
          },
          "metadata": {}
        },
        {
          "output_type": "stream",
          "name": "stderr",
          "text": [
            "Some weights of MegatronBertForSequenceClassification were not initialized from the model checkpoint at AshtonIsNotHere/GatorTron-OG and are newly initialized: ['classifier.bias', 'classifier.weight']\n",
            "You should probably TRAIN this model on a down-stream task to be able to use it for predictions and inference.\n"
          ]
        }
      ]
    },
    {
      "cell_type": "markdown",
      "source": [
        "freeze weights if needed"
      ],
      "metadata": {
        "id": "lfF5PFP4XkPW"
      }
    },
    {
      "cell_type": "code",
      "source": [
        "for name, params in model.named_parameters():\n",
        "  if name.startswith('bert.embeddings'):\n",
        "    params.requires_grad = False\n",
        "  if name.startswith('bert.encoder'):\n",
        "    params.requires_grad = False\n",
        "  # if name.startswith('bert.encoder.layer.13'):\n",
        "  #   params.requires_grad = True\n",
        "  # if name.startswith('bert.encoder.layer.14'):\n",
        "  #   params.requires_grad = True\n",
        "  # if name.startswith('bert.encoder.layer.15'):\n",
        "  #   params.requires_grad = True\n",
        "  # if name.startswith('bert.encoder.layer.16'):\n",
        "  #   params.requires_grad = True\n",
        "  # if name.startswith('bert.encoder.layer.17'):\n",
        "  #   params.requires_grad = True\n",
        "  if name.startswith('bert.encoder.layer.18'):\n",
        "    params.requires_grad = True\n",
        "  if name.startswith('bert.encoder.layer.19'):\n",
        "    params.requires_grad = True\n",
        "  if name.startswith('bert.encoder.layer.20'):\n",
        "    params.requires_grad = True\n",
        "  if name.startswith('bert.encoder.layer.21'):\n",
        "    params.requires_grad = True\n",
        "  if name.startswith('bert.encoder.layer.22'):\n",
        "    params.requires_grad = True\n",
        "  if name.startswith('bert.encoder.layer.23'):\n",
        "    params.requires_grad = True\n",
        "  if name.startswith('bert.encoder.ln'):\n",
        "    params.requires_grad = True"
      ],
      "metadata": {
        "id": "epNJ1zr8_-EF"
      },
      "execution_count": 18,
      "outputs": []
    },
    {
      "cell_type": "code",
      "source": [
        "for name, params in model.named_parameters():\n",
        "  print(name)\n",
        "  print(params.requires_grad)"
      ],
      "metadata": {
        "id": "Y5LLolR8LwTX",
        "colab": {
          "base_uri": "https://localhost:8080/"
        },
        "outputId": "911796f2-68bb-4286-e73d-c9b74f565fe4"
      },
      "execution_count": 19,
      "outputs": [
        {
          "output_type": "stream",
          "name": "stdout",
          "text": [
            "bert.embeddings.word_embeddings.weight\n",
            "False\n",
            "bert.embeddings.position_embeddings.weight\n",
            "False\n",
            "bert.embeddings.token_type_embeddings.weight\n",
            "False\n",
            "bert.encoder.layer.0.attention.ln.weight\n",
            "False\n",
            "bert.encoder.layer.0.attention.ln.bias\n",
            "False\n",
            "bert.encoder.layer.0.attention.self.query.weight\n",
            "False\n",
            "bert.encoder.layer.0.attention.self.query.bias\n",
            "False\n",
            "bert.encoder.layer.0.attention.self.key.weight\n",
            "False\n",
            "bert.encoder.layer.0.attention.self.key.bias\n",
            "False\n",
            "bert.encoder.layer.0.attention.self.value.weight\n",
            "False\n",
            "bert.encoder.layer.0.attention.self.value.bias\n",
            "False\n",
            "bert.encoder.layer.0.attention.output.dense.weight\n",
            "False\n",
            "bert.encoder.layer.0.attention.output.dense.bias\n",
            "False\n",
            "bert.encoder.layer.0.ln.weight\n",
            "False\n",
            "bert.encoder.layer.0.ln.bias\n",
            "False\n",
            "bert.encoder.layer.0.intermediate.dense.weight\n",
            "False\n",
            "bert.encoder.layer.0.intermediate.dense.bias\n",
            "False\n",
            "bert.encoder.layer.0.output.dense.weight\n",
            "False\n",
            "bert.encoder.layer.0.output.dense.bias\n",
            "False\n",
            "bert.encoder.layer.1.attention.ln.weight\n",
            "False\n",
            "bert.encoder.layer.1.attention.ln.bias\n",
            "False\n",
            "bert.encoder.layer.1.attention.self.query.weight\n",
            "False\n",
            "bert.encoder.layer.1.attention.self.query.bias\n",
            "False\n",
            "bert.encoder.layer.1.attention.self.key.weight\n",
            "False\n",
            "bert.encoder.layer.1.attention.self.key.bias\n",
            "False\n",
            "bert.encoder.layer.1.attention.self.value.weight\n",
            "False\n",
            "bert.encoder.layer.1.attention.self.value.bias\n",
            "False\n",
            "bert.encoder.layer.1.attention.output.dense.weight\n",
            "False\n",
            "bert.encoder.layer.1.attention.output.dense.bias\n",
            "False\n",
            "bert.encoder.layer.1.ln.weight\n",
            "False\n",
            "bert.encoder.layer.1.ln.bias\n",
            "False\n",
            "bert.encoder.layer.1.intermediate.dense.weight\n",
            "False\n",
            "bert.encoder.layer.1.intermediate.dense.bias\n",
            "False\n",
            "bert.encoder.layer.1.output.dense.weight\n",
            "False\n",
            "bert.encoder.layer.1.output.dense.bias\n",
            "False\n",
            "bert.encoder.layer.2.attention.ln.weight\n",
            "False\n",
            "bert.encoder.layer.2.attention.ln.bias\n",
            "False\n",
            "bert.encoder.layer.2.attention.self.query.weight\n",
            "False\n",
            "bert.encoder.layer.2.attention.self.query.bias\n",
            "False\n",
            "bert.encoder.layer.2.attention.self.key.weight\n",
            "False\n",
            "bert.encoder.layer.2.attention.self.key.bias\n",
            "False\n",
            "bert.encoder.layer.2.attention.self.value.weight\n",
            "False\n",
            "bert.encoder.layer.2.attention.self.value.bias\n",
            "False\n",
            "bert.encoder.layer.2.attention.output.dense.weight\n",
            "False\n",
            "bert.encoder.layer.2.attention.output.dense.bias\n",
            "False\n",
            "bert.encoder.layer.2.ln.weight\n",
            "False\n",
            "bert.encoder.layer.2.ln.bias\n",
            "False\n",
            "bert.encoder.layer.2.intermediate.dense.weight\n",
            "False\n",
            "bert.encoder.layer.2.intermediate.dense.bias\n",
            "False\n",
            "bert.encoder.layer.2.output.dense.weight\n",
            "False\n",
            "bert.encoder.layer.2.output.dense.bias\n",
            "False\n",
            "bert.encoder.layer.3.attention.ln.weight\n",
            "False\n",
            "bert.encoder.layer.3.attention.ln.bias\n",
            "False\n",
            "bert.encoder.layer.3.attention.self.query.weight\n",
            "False\n",
            "bert.encoder.layer.3.attention.self.query.bias\n",
            "False\n",
            "bert.encoder.layer.3.attention.self.key.weight\n",
            "False\n",
            "bert.encoder.layer.3.attention.self.key.bias\n",
            "False\n",
            "bert.encoder.layer.3.attention.self.value.weight\n",
            "False\n",
            "bert.encoder.layer.3.attention.self.value.bias\n",
            "False\n",
            "bert.encoder.layer.3.attention.output.dense.weight\n",
            "False\n",
            "bert.encoder.layer.3.attention.output.dense.bias\n",
            "False\n",
            "bert.encoder.layer.3.ln.weight\n",
            "False\n",
            "bert.encoder.layer.3.ln.bias\n",
            "False\n",
            "bert.encoder.layer.3.intermediate.dense.weight\n",
            "False\n",
            "bert.encoder.layer.3.intermediate.dense.bias\n",
            "False\n",
            "bert.encoder.layer.3.output.dense.weight\n",
            "False\n",
            "bert.encoder.layer.3.output.dense.bias\n",
            "False\n",
            "bert.encoder.layer.4.attention.ln.weight\n",
            "False\n",
            "bert.encoder.layer.4.attention.ln.bias\n",
            "False\n",
            "bert.encoder.layer.4.attention.self.query.weight\n",
            "False\n",
            "bert.encoder.layer.4.attention.self.query.bias\n",
            "False\n",
            "bert.encoder.layer.4.attention.self.key.weight\n",
            "False\n",
            "bert.encoder.layer.4.attention.self.key.bias\n",
            "False\n",
            "bert.encoder.layer.4.attention.self.value.weight\n",
            "False\n",
            "bert.encoder.layer.4.attention.self.value.bias\n",
            "False\n",
            "bert.encoder.layer.4.attention.output.dense.weight\n",
            "False\n",
            "bert.encoder.layer.4.attention.output.dense.bias\n",
            "False\n",
            "bert.encoder.layer.4.ln.weight\n",
            "False\n",
            "bert.encoder.layer.4.ln.bias\n",
            "False\n",
            "bert.encoder.layer.4.intermediate.dense.weight\n",
            "False\n",
            "bert.encoder.layer.4.intermediate.dense.bias\n",
            "False\n",
            "bert.encoder.layer.4.output.dense.weight\n",
            "False\n",
            "bert.encoder.layer.4.output.dense.bias\n",
            "False\n",
            "bert.encoder.layer.5.attention.ln.weight\n",
            "False\n",
            "bert.encoder.layer.5.attention.ln.bias\n",
            "False\n",
            "bert.encoder.layer.5.attention.self.query.weight\n",
            "False\n",
            "bert.encoder.layer.5.attention.self.query.bias\n",
            "False\n",
            "bert.encoder.layer.5.attention.self.key.weight\n",
            "False\n",
            "bert.encoder.layer.5.attention.self.key.bias\n",
            "False\n",
            "bert.encoder.layer.5.attention.self.value.weight\n",
            "False\n",
            "bert.encoder.layer.5.attention.self.value.bias\n",
            "False\n",
            "bert.encoder.layer.5.attention.output.dense.weight\n",
            "False\n",
            "bert.encoder.layer.5.attention.output.dense.bias\n",
            "False\n",
            "bert.encoder.layer.5.ln.weight\n",
            "False\n",
            "bert.encoder.layer.5.ln.bias\n",
            "False\n",
            "bert.encoder.layer.5.intermediate.dense.weight\n",
            "False\n",
            "bert.encoder.layer.5.intermediate.dense.bias\n",
            "False\n",
            "bert.encoder.layer.5.output.dense.weight\n",
            "False\n",
            "bert.encoder.layer.5.output.dense.bias\n",
            "False\n",
            "bert.encoder.layer.6.attention.ln.weight\n",
            "False\n",
            "bert.encoder.layer.6.attention.ln.bias\n",
            "False\n",
            "bert.encoder.layer.6.attention.self.query.weight\n",
            "False\n",
            "bert.encoder.layer.6.attention.self.query.bias\n",
            "False\n",
            "bert.encoder.layer.6.attention.self.key.weight\n",
            "False\n",
            "bert.encoder.layer.6.attention.self.key.bias\n",
            "False\n",
            "bert.encoder.layer.6.attention.self.value.weight\n",
            "False\n",
            "bert.encoder.layer.6.attention.self.value.bias\n",
            "False\n",
            "bert.encoder.layer.6.attention.output.dense.weight\n",
            "False\n",
            "bert.encoder.layer.6.attention.output.dense.bias\n",
            "False\n",
            "bert.encoder.layer.6.ln.weight\n",
            "False\n",
            "bert.encoder.layer.6.ln.bias\n",
            "False\n",
            "bert.encoder.layer.6.intermediate.dense.weight\n",
            "False\n",
            "bert.encoder.layer.6.intermediate.dense.bias\n",
            "False\n",
            "bert.encoder.layer.6.output.dense.weight\n",
            "False\n",
            "bert.encoder.layer.6.output.dense.bias\n",
            "False\n",
            "bert.encoder.layer.7.attention.ln.weight\n",
            "False\n",
            "bert.encoder.layer.7.attention.ln.bias\n",
            "False\n",
            "bert.encoder.layer.7.attention.self.query.weight\n",
            "False\n",
            "bert.encoder.layer.7.attention.self.query.bias\n",
            "False\n",
            "bert.encoder.layer.7.attention.self.key.weight\n",
            "False\n",
            "bert.encoder.layer.7.attention.self.key.bias\n",
            "False\n",
            "bert.encoder.layer.7.attention.self.value.weight\n",
            "False\n",
            "bert.encoder.layer.7.attention.self.value.bias\n",
            "False\n",
            "bert.encoder.layer.7.attention.output.dense.weight\n",
            "False\n",
            "bert.encoder.layer.7.attention.output.dense.bias\n",
            "False\n",
            "bert.encoder.layer.7.ln.weight\n",
            "False\n",
            "bert.encoder.layer.7.ln.bias\n",
            "False\n",
            "bert.encoder.layer.7.intermediate.dense.weight\n",
            "False\n",
            "bert.encoder.layer.7.intermediate.dense.bias\n",
            "False\n",
            "bert.encoder.layer.7.output.dense.weight\n",
            "False\n",
            "bert.encoder.layer.7.output.dense.bias\n",
            "False\n",
            "bert.encoder.layer.8.attention.ln.weight\n",
            "False\n",
            "bert.encoder.layer.8.attention.ln.bias\n",
            "False\n",
            "bert.encoder.layer.8.attention.self.query.weight\n",
            "False\n",
            "bert.encoder.layer.8.attention.self.query.bias\n",
            "False\n",
            "bert.encoder.layer.8.attention.self.key.weight\n",
            "False\n",
            "bert.encoder.layer.8.attention.self.key.bias\n",
            "False\n",
            "bert.encoder.layer.8.attention.self.value.weight\n",
            "False\n",
            "bert.encoder.layer.8.attention.self.value.bias\n",
            "False\n",
            "bert.encoder.layer.8.attention.output.dense.weight\n",
            "False\n",
            "bert.encoder.layer.8.attention.output.dense.bias\n",
            "False\n",
            "bert.encoder.layer.8.ln.weight\n",
            "False\n",
            "bert.encoder.layer.8.ln.bias\n",
            "False\n",
            "bert.encoder.layer.8.intermediate.dense.weight\n",
            "False\n",
            "bert.encoder.layer.8.intermediate.dense.bias\n",
            "False\n",
            "bert.encoder.layer.8.output.dense.weight\n",
            "False\n",
            "bert.encoder.layer.8.output.dense.bias\n",
            "False\n",
            "bert.encoder.layer.9.attention.ln.weight\n",
            "False\n",
            "bert.encoder.layer.9.attention.ln.bias\n",
            "False\n",
            "bert.encoder.layer.9.attention.self.query.weight\n",
            "False\n",
            "bert.encoder.layer.9.attention.self.query.bias\n",
            "False\n",
            "bert.encoder.layer.9.attention.self.key.weight\n",
            "False\n",
            "bert.encoder.layer.9.attention.self.key.bias\n",
            "False\n",
            "bert.encoder.layer.9.attention.self.value.weight\n",
            "False\n",
            "bert.encoder.layer.9.attention.self.value.bias\n",
            "False\n",
            "bert.encoder.layer.9.attention.output.dense.weight\n",
            "False\n",
            "bert.encoder.layer.9.attention.output.dense.bias\n",
            "False\n",
            "bert.encoder.layer.9.ln.weight\n",
            "False\n",
            "bert.encoder.layer.9.ln.bias\n",
            "False\n",
            "bert.encoder.layer.9.intermediate.dense.weight\n",
            "False\n",
            "bert.encoder.layer.9.intermediate.dense.bias\n",
            "False\n",
            "bert.encoder.layer.9.output.dense.weight\n",
            "False\n",
            "bert.encoder.layer.9.output.dense.bias\n",
            "False\n",
            "bert.encoder.layer.10.attention.ln.weight\n",
            "False\n",
            "bert.encoder.layer.10.attention.ln.bias\n",
            "False\n",
            "bert.encoder.layer.10.attention.self.query.weight\n",
            "False\n",
            "bert.encoder.layer.10.attention.self.query.bias\n",
            "False\n",
            "bert.encoder.layer.10.attention.self.key.weight\n",
            "False\n",
            "bert.encoder.layer.10.attention.self.key.bias\n",
            "False\n",
            "bert.encoder.layer.10.attention.self.value.weight\n",
            "False\n",
            "bert.encoder.layer.10.attention.self.value.bias\n",
            "False\n",
            "bert.encoder.layer.10.attention.output.dense.weight\n",
            "False\n",
            "bert.encoder.layer.10.attention.output.dense.bias\n",
            "False\n",
            "bert.encoder.layer.10.ln.weight\n",
            "False\n",
            "bert.encoder.layer.10.ln.bias\n",
            "False\n",
            "bert.encoder.layer.10.intermediate.dense.weight\n",
            "False\n",
            "bert.encoder.layer.10.intermediate.dense.bias\n",
            "False\n",
            "bert.encoder.layer.10.output.dense.weight\n",
            "False\n",
            "bert.encoder.layer.10.output.dense.bias\n",
            "False\n",
            "bert.encoder.layer.11.attention.ln.weight\n",
            "False\n",
            "bert.encoder.layer.11.attention.ln.bias\n",
            "False\n",
            "bert.encoder.layer.11.attention.self.query.weight\n",
            "False\n",
            "bert.encoder.layer.11.attention.self.query.bias\n",
            "False\n",
            "bert.encoder.layer.11.attention.self.key.weight\n",
            "False\n",
            "bert.encoder.layer.11.attention.self.key.bias\n",
            "False\n",
            "bert.encoder.layer.11.attention.self.value.weight\n",
            "False\n",
            "bert.encoder.layer.11.attention.self.value.bias\n",
            "False\n",
            "bert.encoder.layer.11.attention.output.dense.weight\n",
            "False\n",
            "bert.encoder.layer.11.attention.output.dense.bias\n",
            "False\n",
            "bert.encoder.layer.11.ln.weight\n",
            "False\n",
            "bert.encoder.layer.11.ln.bias\n",
            "False\n",
            "bert.encoder.layer.11.intermediate.dense.weight\n",
            "False\n",
            "bert.encoder.layer.11.intermediate.dense.bias\n",
            "False\n",
            "bert.encoder.layer.11.output.dense.weight\n",
            "False\n",
            "bert.encoder.layer.11.output.dense.bias\n",
            "False\n",
            "bert.encoder.layer.12.attention.ln.weight\n",
            "False\n",
            "bert.encoder.layer.12.attention.ln.bias\n",
            "False\n",
            "bert.encoder.layer.12.attention.self.query.weight\n",
            "False\n",
            "bert.encoder.layer.12.attention.self.query.bias\n",
            "False\n",
            "bert.encoder.layer.12.attention.self.key.weight\n",
            "False\n",
            "bert.encoder.layer.12.attention.self.key.bias\n",
            "False\n",
            "bert.encoder.layer.12.attention.self.value.weight\n",
            "False\n",
            "bert.encoder.layer.12.attention.self.value.bias\n",
            "False\n",
            "bert.encoder.layer.12.attention.output.dense.weight\n",
            "False\n",
            "bert.encoder.layer.12.attention.output.dense.bias\n",
            "False\n",
            "bert.encoder.layer.12.ln.weight\n",
            "False\n",
            "bert.encoder.layer.12.ln.bias\n",
            "False\n",
            "bert.encoder.layer.12.intermediate.dense.weight\n",
            "False\n",
            "bert.encoder.layer.12.intermediate.dense.bias\n",
            "False\n",
            "bert.encoder.layer.12.output.dense.weight\n",
            "False\n",
            "bert.encoder.layer.12.output.dense.bias\n",
            "False\n",
            "bert.encoder.layer.13.attention.ln.weight\n",
            "False\n",
            "bert.encoder.layer.13.attention.ln.bias\n",
            "False\n",
            "bert.encoder.layer.13.attention.self.query.weight\n",
            "False\n",
            "bert.encoder.layer.13.attention.self.query.bias\n",
            "False\n",
            "bert.encoder.layer.13.attention.self.key.weight\n",
            "False\n",
            "bert.encoder.layer.13.attention.self.key.bias\n",
            "False\n",
            "bert.encoder.layer.13.attention.self.value.weight\n",
            "False\n",
            "bert.encoder.layer.13.attention.self.value.bias\n",
            "False\n",
            "bert.encoder.layer.13.attention.output.dense.weight\n",
            "False\n",
            "bert.encoder.layer.13.attention.output.dense.bias\n",
            "False\n",
            "bert.encoder.layer.13.ln.weight\n",
            "False\n",
            "bert.encoder.layer.13.ln.bias\n",
            "False\n",
            "bert.encoder.layer.13.intermediate.dense.weight\n",
            "False\n",
            "bert.encoder.layer.13.intermediate.dense.bias\n",
            "False\n",
            "bert.encoder.layer.13.output.dense.weight\n",
            "False\n",
            "bert.encoder.layer.13.output.dense.bias\n",
            "False\n",
            "bert.encoder.layer.14.attention.ln.weight\n",
            "False\n",
            "bert.encoder.layer.14.attention.ln.bias\n",
            "False\n",
            "bert.encoder.layer.14.attention.self.query.weight\n",
            "False\n",
            "bert.encoder.layer.14.attention.self.query.bias\n",
            "False\n",
            "bert.encoder.layer.14.attention.self.key.weight\n",
            "False\n",
            "bert.encoder.layer.14.attention.self.key.bias\n",
            "False\n",
            "bert.encoder.layer.14.attention.self.value.weight\n",
            "False\n",
            "bert.encoder.layer.14.attention.self.value.bias\n",
            "False\n",
            "bert.encoder.layer.14.attention.output.dense.weight\n",
            "False\n",
            "bert.encoder.layer.14.attention.output.dense.bias\n",
            "False\n",
            "bert.encoder.layer.14.ln.weight\n",
            "False\n",
            "bert.encoder.layer.14.ln.bias\n",
            "False\n",
            "bert.encoder.layer.14.intermediate.dense.weight\n",
            "False\n",
            "bert.encoder.layer.14.intermediate.dense.bias\n",
            "False\n",
            "bert.encoder.layer.14.output.dense.weight\n",
            "False\n",
            "bert.encoder.layer.14.output.dense.bias\n",
            "False\n",
            "bert.encoder.layer.15.attention.ln.weight\n",
            "False\n",
            "bert.encoder.layer.15.attention.ln.bias\n",
            "False\n",
            "bert.encoder.layer.15.attention.self.query.weight\n",
            "False\n",
            "bert.encoder.layer.15.attention.self.query.bias\n",
            "False\n",
            "bert.encoder.layer.15.attention.self.key.weight\n",
            "False\n",
            "bert.encoder.layer.15.attention.self.key.bias\n",
            "False\n",
            "bert.encoder.layer.15.attention.self.value.weight\n",
            "False\n",
            "bert.encoder.layer.15.attention.self.value.bias\n",
            "False\n",
            "bert.encoder.layer.15.attention.output.dense.weight\n",
            "False\n",
            "bert.encoder.layer.15.attention.output.dense.bias\n",
            "False\n",
            "bert.encoder.layer.15.ln.weight\n",
            "False\n",
            "bert.encoder.layer.15.ln.bias\n",
            "False\n",
            "bert.encoder.layer.15.intermediate.dense.weight\n",
            "False\n",
            "bert.encoder.layer.15.intermediate.dense.bias\n",
            "False\n",
            "bert.encoder.layer.15.output.dense.weight\n",
            "False\n",
            "bert.encoder.layer.15.output.dense.bias\n",
            "False\n",
            "bert.encoder.layer.16.attention.ln.weight\n",
            "False\n",
            "bert.encoder.layer.16.attention.ln.bias\n",
            "False\n",
            "bert.encoder.layer.16.attention.self.query.weight\n",
            "False\n",
            "bert.encoder.layer.16.attention.self.query.bias\n",
            "False\n",
            "bert.encoder.layer.16.attention.self.key.weight\n",
            "False\n",
            "bert.encoder.layer.16.attention.self.key.bias\n",
            "False\n",
            "bert.encoder.layer.16.attention.self.value.weight\n",
            "False\n",
            "bert.encoder.layer.16.attention.self.value.bias\n",
            "False\n",
            "bert.encoder.layer.16.attention.output.dense.weight\n",
            "False\n",
            "bert.encoder.layer.16.attention.output.dense.bias\n",
            "False\n",
            "bert.encoder.layer.16.ln.weight\n",
            "False\n",
            "bert.encoder.layer.16.ln.bias\n",
            "False\n",
            "bert.encoder.layer.16.intermediate.dense.weight\n",
            "False\n",
            "bert.encoder.layer.16.intermediate.dense.bias\n",
            "False\n",
            "bert.encoder.layer.16.output.dense.weight\n",
            "False\n",
            "bert.encoder.layer.16.output.dense.bias\n",
            "False\n",
            "bert.encoder.layer.17.attention.ln.weight\n",
            "False\n",
            "bert.encoder.layer.17.attention.ln.bias\n",
            "False\n",
            "bert.encoder.layer.17.attention.self.query.weight\n",
            "False\n",
            "bert.encoder.layer.17.attention.self.query.bias\n",
            "False\n",
            "bert.encoder.layer.17.attention.self.key.weight\n",
            "False\n",
            "bert.encoder.layer.17.attention.self.key.bias\n",
            "False\n",
            "bert.encoder.layer.17.attention.self.value.weight\n",
            "False\n",
            "bert.encoder.layer.17.attention.self.value.bias\n",
            "False\n",
            "bert.encoder.layer.17.attention.output.dense.weight\n",
            "False\n",
            "bert.encoder.layer.17.attention.output.dense.bias\n",
            "False\n",
            "bert.encoder.layer.17.ln.weight\n",
            "False\n",
            "bert.encoder.layer.17.ln.bias\n",
            "False\n",
            "bert.encoder.layer.17.intermediate.dense.weight\n",
            "False\n",
            "bert.encoder.layer.17.intermediate.dense.bias\n",
            "False\n",
            "bert.encoder.layer.17.output.dense.weight\n",
            "False\n",
            "bert.encoder.layer.17.output.dense.bias\n",
            "False\n",
            "bert.encoder.layer.18.attention.ln.weight\n",
            "True\n",
            "bert.encoder.layer.18.attention.ln.bias\n",
            "True\n",
            "bert.encoder.layer.18.attention.self.query.weight\n",
            "True\n",
            "bert.encoder.layer.18.attention.self.query.bias\n",
            "True\n",
            "bert.encoder.layer.18.attention.self.key.weight\n",
            "True\n",
            "bert.encoder.layer.18.attention.self.key.bias\n",
            "True\n",
            "bert.encoder.layer.18.attention.self.value.weight\n",
            "True\n",
            "bert.encoder.layer.18.attention.self.value.bias\n",
            "True\n",
            "bert.encoder.layer.18.attention.output.dense.weight\n",
            "True\n",
            "bert.encoder.layer.18.attention.output.dense.bias\n",
            "True\n",
            "bert.encoder.layer.18.ln.weight\n",
            "True\n",
            "bert.encoder.layer.18.ln.bias\n",
            "True\n",
            "bert.encoder.layer.18.intermediate.dense.weight\n",
            "True\n",
            "bert.encoder.layer.18.intermediate.dense.bias\n",
            "True\n",
            "bert.encoder.layer.18.output.dense.weight\n",
            "True\n",
            "bert.encoder.layer.18.output.dense.bias\n",
            "True\n",
            "bert.encoder.layer.19.attention.ln.weight\n",
            "True\n",
            "bert.encoder.layer.19.attention.ln.bias\n",
            "True\n",
            "bert.encoder.layer.19.attention.self.query.weight\n",
            "True\n",
            "bert.encoder.layer.19.attention.self.query.bias\n",
            "True\n",
            "bert.encoder.layer.19.attention.self.key.weight\n",
            "True\n",
            "bert.encoder.layer.19.attention.self.key.bias\n",
            "True\n",
            "bert.encoder.layer.19.attention.self.value.weight\n",
            "True\n",
            "bert.encoder.layer.19.attention.self.value.bias\n",
            "True\n",
            "bert.encoder.layer.19.attention.output.dense.weight\n",
            "True\n",
            "bert.encoder.layer.19.attention.output.dense.bias\n",
            "True\n",
            "bert.encoder.layer.19.ln.weight\n",
            "True\n",
            "bert.encoder.layer.19.ln.bias\n",
            "True\n",
            "bert.encoder.layer.19.intermediate.dense.weight\n",
            "True\n",
            "bert.encoder.layer.19.intermediate.dense.bias\n",
            "True\n",
            "bert.encoder.layer.19.output.dense.weight\n",
            "True\n",
            "bert.encoder.layer.19.output.dense.bias\n",
            "True\n",
            "bert.encoder.layer.20.attention.ln.weight\n",
            "True\n",
            "bert.encoder.layer.20.attention.ln.bias\n",
            "True\n",
            "bert.encoder.layer.20.attention.self.query.weight\n",
            "True\n",
            "bert.encoder.layer.20.attention.self.query.bias\n",
            "True\n",
            "bert.encoder.layer.20.attention.self.key.weight\n",
            "True\n",
            "bert.encoder.layer.20.attention.self.key.bias\n",
            "True\n",
            "bert.encoder.layer.20.attention.self.value.weight\n",
            "True\n",
            "bert.encoder.layer.20.attention.self.value.bias\n",
            "True\n",
            "bert.encoder.layer.20.attention.output.dense.weight\n",
            "True\n",
            "bert.encoder.layer.20.attention.output.dense.bias\n",
            "True\n",
            "bert.encoder.layer.20.ln.weight\n",
            "True\n",
            "bert.encoder.layer.20.ln.bias\n",
            "True\n",
            "bert.encoder.layer.20.intermediate.dense.weight\n",
            "True\n",
            "bert.encoder.layer.20.intermediate.dense.bias\n",
            "True\n",
            "bert.encoder.layer.20.output.dense.weight\n",
            "True\n",
            "bert.encoder.layer.20.output.dense.bias\n",
            "True\n",
            "bert.encoder.layer.21.attention.ln.weight\n",
            "True\n",
            "bert.encoder.layer.21.attention.ln.bias\n",
            "True\n",
            "bert.encoder.layer.21.attention.self.query.weight\n",
            "True\n",
            "bert.encoder.layer.21.attention.self.query.bias\n",
            "True\n",
            "bert.encoder.layer.21.attention.self.key.weight\n",
            "True\n",
            "bert.encoder.layer.21.attention.self.key.bias\n",
            "True\n",
            "bert.encoder.layer.21.attention.self.value.weight\n",
            "True\n",
            "bert.encoder.layer.21.attention.self.value.bias\n",
            "True\n",
            "bert.encoder.layer.21.attention.output.dense.weight\n",
            "True\n",
            "bert.encoder.layer.21.attention.output.dense.bias\n",
            "True\n",
            "bert.encoder.layer.21.ln.weight\n",
            "True\n",
            "bert.encoder.layer.21.ln.bias\n",
            "True\n",
            "bert.encoder.layer.21.intermediate.dense.weight\n",
            "True\n",
            "bert.encoder.layer.21.intermediate.dense.bias\n",
            "True\n",
            "bert.encoder.layer.21.output.dense.weight\n",
            "True\n",
            "bert.encoder.layer.21.output.dense.bias\n",
            "True\n",
            "bert.encoder.layer.22.attention.ln.weight\n",
            "True\n",
            "bert.encoder.layer.22.attention.ln.bias\n",
            "True\n",
            "bert.encoder.layer.22.attention.self.query.weight\n",
            "True\n",
            "bert.encoder.layer.22.attention.self.query.bias\n",
            "True\n",
            "bert.encoder.layer.22.attention.self.key.weight\n",
            "True\n",
            "bert.encoder.layer.22.attention.self.key.bias\n",
            "True\n",
            "bert.encoder.layer.22.attention.self.value.weight\n",
            "True\n",
            "bert.encoder.layer.22.attention.self.value.bias\n",
            "True\n",
            "bert.encoder.layer.22.attention.output.dense.weight\n",
            "True\n",
            "bert.encoder.layer.22.attention.output.dense.bias\n",
            "True\n",
            "bert.encoder.layer.22.ln.weight\n",
            "True\n",
            "bert.encoder.layer.22.ln.bias\n",
            "True\n",
            "bert.encoder.layer.22.intermediate.dense.weight\n",
            "True\n",
            "bert.encoder.layer.22.intermediate.dense.bias\n",
            "True\n",
            "bert.encoder.layer.22.output.dense.weight\n",
            "True\n",
            "bert.encoder.layer.22.output.dense.bias\n",
            "True\n",
            "bert.encoder.layer.23.attention.ln.weight\n",
            "True\n",
            "bert.encoder.layer.23.attention.ln.bias\n",
            "True\n",
            "bert.encoder.layer.23.attention.self.query.weight\n",
            "True\n",
            "bert.encoder.layer.23.attention.self.query.bias\n",
            "True\n",
            "bert.encoder.layer.23.attention.self.key.weight\n",
            "True\n",
            "bert.encoder.layer.23.attention.self.key.bias\n",
            "True\n",
            "bert.encoder.layer.23.attention.self.value.weight\n",
            "True\n",
            "bert.encoder.layer.23.attention.self.value.bias\n",
            "True\n",
            "bert.encoder.layer.23.attention.output.dense.weight\n",
            "True\n",
            "bert.encoder.layer.23.attention.output.dense.bias\n",
            "True\n",
            "bert.encoder.layer.23.ln.weight\n",
            "True\n",
            "bert.encoder.layer.23.ln.bias\n",
            "True\n",
            "bert.encoder.layer.23.intermediate.dense.weight\n",
            "True\n",
            "bert.encoder.layer.23.intermediate.dense.bias\n",
            "True\n",
            "bert.encoder.layer.23.output.dense.weight\n",
            "True\n",
            "bert.encoder.layer.23.output.dense.bias\n",
            "True\n",
            "bert.encoder.ln.weight\n",
            "True\n",
            "bert.encoder.ln.bias\n",
            "True\n",
            "bert.pooler.dense.weight\n",
            "True\n",
            "bert.pooler.dense.bias\n",
            "True\n",
            "classifier.weight\n",
            "True\n",
            "classifier.bias\n",
            "True\n"
          ]
        }
      ]
    },
    {
      "cell_type": "code",
      "source": [
        "import time\n",
        "\n",
        "timestamp = time.strftime('%b_%d_%H:%M:%S', time.localtime())\n",
        "\n",
        "# Note: AdamW is a class from the huggingface library (as opposed to pytorch) \n",
        "from transformers import AdamW\n",
        "optimizer = AdamW(model.parameters(), lr=5e-5)"
      ],
      "metadata": {
        "id": "0YZDa2pVUipQ",
        "colab": {
          "base_uri": "https://localhost:8080/"
        },
        "outputId": "21cfb18f-b2a0-4f7c-b5a0-bb5e0bba28c2"
      },
      "execution_count": 20,
      "outputs": [
        {
          "output_type": "stream",
          "name": "stderr",
          "text": [
            "/usr/local/lib/python3.10/dist-packages/transformers/optimization.py:407: FutureWarning: This implementation of AdamW is deprecated and will be removed in a future version. Use the PyTorch implementation torch.optim.AdamW instead, or set `no_deprecation_warning=True` to disable this warning\n",
            "  warnings.warn(\n"
          ]
        }
      ]
    },
    {
      "cell_type": "markdown",
      "source": [
        "# Compute Predictions"
      ],
      "metadata": {
        "id": "qleopQt9fc4r"
      }
    },
    {
      "cell_type": "code",
      "source": [
        "def gather_predictions(model, loader, device, doc_position=False, save_preds=False, max_preds=1e9):\n",
        "    # run through data loader and get model predictions\n",
        "    with torch.no_grad():\n",
        "        model.eval()\n",
        "        yhat_raw = np.zeros((len(loader), 7))\n",
        "        yhat = np.zeros((len(loader), 7))\n",
        "        y = np.zeros((len(loader), 7))\n",
        "        sentences = []\n",
        "        doc_ids = []\n",
        "        sent_ixs = []\n",
        "        for ix, x in enumerate(loader):\n",
        "            if ix >= max_preds:\n",
        "                break\n",
        "            for k, v in x.items():\n",
        "                if isinstance(v, torch.Tensor):\n",
        "                    x[k] = v.to(device)\n",
        "            sentences.extend(x['sentences'])\n",
        "            doc_ids.extend(x['doc_ids'])\n",
        "            sent_ixs.extend(x['sent_ixs'])\n",
        "            inputs = {'input_ids': x['input_ids'], 'attention_mask': x['attention_mask'], 'labels': x['labels']}\n",
        "            if 'token_type_ids' in x:\n",
        "              inputs['token_type_ids'] = x['token_type_ids']\n",
        "            outputs = model(**inputs)\n",
        "            loss = outputs['loss']\n",
        "            pred = outputs['logits']\n",
        "            pred = torch.sigmoid(pred)\n",
        "            pred = pred.cpu().numpy()\n",
        "            yhat_raw[ix] = pred\n",
        "            yhat[ix] = np.round(pred)\n",
        "            y[ix] = x['labels'].cpu().numpy()[0]\n",
        "    return yhat_raw, yhat, y, sentences, doc_ids, sent_ixs"
      ],
      "metadata": {
        "id": "4Sg_mFp-VIXq"
      },
      "execution_count": 27,
      "outputs": []
    },
    {
      "cell_type": "markdown",
      "source": [
        "# Evaluation Metrics"
      ],
      "metadata": {
        "id": "m5vysVhefOOW"
      }
    },
    {
      "cell_type": "code",
      "source": [
        "import datetime\n",
        "import time\n",
        "\n",
        "def format_time(elapsed):\n",
        "    return str(datetime.timedelta(seconds=int(round((elapsed)))))"
      ],
      "metadata": {
        "id": "uuZdTrAJlg5p"
      },
      "execution_count": 22,
      "outputs": []
    },
    {
      "cell_type": "code",
      "source": [
        "from collections import defaultdict\n",
        "import csv\n",
        "import json\n",
        "import numpy as np\n",
        "import os\n",
        "import sys\n",
        "\n",
        "from sklearn.metrics import roc_curve, auc, precision_score, recall_score, f1_score, roc_auc_score, accuracy_score\n",
        "from tqdm import tqdm\n",
        "\n",
        "\n",
        "def auc_metrics(yhat_raw, y, ymic):\n",
        "    if yhat_raw.shape[0] <= 1:\n",
        "        return\n",
        "    fpr = {}\n",
        "    tpr = {}\n",
        "    roc_auc = {}\n",
        "    #get AUC for each label individually\n",
        "    relevant_labels = []\n",
        "    auc_labels = {}\n",
        "    for i in range(y.shape[1]):\n",
        "        #only if there are true positives for this label\n",
        "        if y[:,i].sum() > 0:\n",
        "            fpr[i], tpr[i], _ = roc_curve(y[:,i], yhat_raw[:,i])\n",
        "            if len(fpr[i]) > 1 and len(tpr[i]) > 1:\n",
        "                auc_score = auc(fpr[i], tpr[i])\n",
        "                if not np.isnan(auc_score): \n",
        "                    auc_labels[\"auc_%d\" % i] = auc_score\n",
        "                    relevant_labels.append(i)\n",
        "\n",
        "    #macro-AUC: just average the auc scores\n",
        "    aucs = []\n",
        "    for i in relevant_labels:\n",
        "        aucs.append(auc_labels['auc_%d' % i])\n",
        "    roc_auc['auc_macro'] = np.mean(aucs)\n",
        "\n",
        "    #micro-AUC: just look at each individual prediction\n",
        "    yhatmic = yhat_raw.ravel()\n",
        "    fpr[\"micro\"], tpr[\"micro\"], _ = roc_curve(ymic, yhatmic) \n",
        "    roc_auc[\"auc_micro\"] = auc(fpr[\"micro\"], tpr[\"micro\"])\n",
        "\n",
        "    return roc_auc\n",
        "\n",
        "def union_size(yhat, y, axis):\n",
        "    #axis=0 for label-level union (macro). axis=1 for instance-level\n",
        "    return np.logical_or(yhat, y).sum(axis=axis).astype(float)\n",
        "\n",
        "def intersect_size(yhat, y, axis):\n",
        "    #axis=0 for label-level union (macro). axis=1 for instance-level\n",
        "    return np.logical_and(yhat, y).sum(axis=axis).astype(float)\n",
        "\n",
        "\n",
        "#########################################################################\n",
        "#MACRO METRICS: calculate metric for each label and average across labels\n",
        "#########################################################################\n",
        "\n",
        "def macro_accuracy(yhat, y):\n",
        "    num = intersect_size(yhat, y, 0) / (union_size(yhat, y, 0) + 1e-10)\n",
        "    return np.mean(num)\n",
        "\n",
        "def macro_precision(yhat, y):\n",
        "    num = intersect_size(yhat, y, 0) / (yhat.sum(axis=0) + 1e-10)\n",
        "    return np.mean(num)\n",
        "\n",
        "def macro_recall(yhat, y):\n",
        "    num = intersect_size(yhat, y, 0) / (y.sum(axis=0) + 1e-10)\n",
        "    return np.mean(num)\n",
        "\n",
        "def macro_f1(yhat, y):\n",
        "    prec = macro_precision(yhat, y)\n",
        "    rec = macro_recall(yhat, y)\n",
        "    if prec + rec == 0:\n",
        "        f1 = 0.\n",
        "    else:\n",
        "        f1 = 2*(prec*rec)/(prec+rec)\n",
        "    return f1\n",
        "\n",
        "##########################################################################\n",
        "#MICRO METRICS: treat every prediction as an individual binary prediction\n",
        "##########################################################################\n",
        "\n",
        "def micro_accuracy(yhatmic, ymic):\n",
        "    return intersect_size(yhatmic, ymic, 0) / union_size(yhatmic, ymic, 0)\n",
        "\n",
        "def micro_precision(yhatmic, ymic):\n",
        "    return intersect_size(yhatmic, ymic, 0) / yhatmic.sum(axis=0)\n",
        "\n",
        "def micro_recall(yhatmic, ymic):\n",
        "    return intersect_size(yhatmic, ymic, 0) / ymic.sum(axis=0)\n",
        "\n",
        "def micro_f1(yhatmic, ymic):\n",
        "    prec = micro_precision(yhatmic, ymic)\n",
        "    rec = micro_recall(yhatmic, ymic)\n",
        "    if prec + rec == 0:\n",
        "        f1 = 0.\n",
        "    else:\n",
        "        f1 = 2*(prec*rec)/(prec+rec)\n",
        "    return f1\n",
        "\n",
        "\n",
        "def all_macro(yhat, y):\n",
        "    return macro_accuracy(yhat, y), macro_precision(yhat, y), macro_recall(yhat, y), macro_f1(yhat, y)\n",
        "\n",
        "def all_micro(yhatmic, ymic):\n",
        "    return micro_accuracy(yhatmic, ymic), micro_precision(yhatmic, ymic), micro_recall(yhatmic, ymic), micro_f1(yhatmic, ymic)\n",
        "\n",
        "\n",
        "def all_metrics(yhat, y, yhat_raw=None, calc_auc=True, label_order=[]):\n",
        "    \"\"\"\n",
        "        Inputs:\n",
        "            yhat: binary predictions matrix \n",
        "            y: binary ground truth matrix\n",
        "            yhat_raw: prediction scores matrix (floats)\n",
        "        Outputs:\n",
        "            dict holding relevant metrics\n",
        "    \"\"\"\n",
        "    names = [\"acc\", \"prec\", \"rec\", \"f1\"]\n",
        "\n",
        "    metrics = {}\n",
        "    for ix,label in enumerate(label_order):\n",
        "        metrics[f\"{label2abbrev[label]}-f1\"] = f1_score(y[:,ix], yhat[:,ix])\n",
        "\n",
        "    #macro\n",
        "    #print(\"GETTING ALL MACRO\")\n",
        "    macro = all_macro(yhat, y)\n",
        "\n",
        "    #micro\n",
        "    #print(\"GETTING ALL MICRO\")\n",
        "    ymic = y.ravel()\n",
        "    yhatmic = yhat.ravel()\n",
        "    micro = all_micro(yhatmic, ymic)\n",
        "\n",
        "    metrics.update({names[i] + \"_macro\": macro[i] for i in range(len(macro))})\n",
        "    metrics.update({names[i] + \"_micro\": micro[i] for i in range(len(micro))})\n",
        "\n",
        "    #AUC\n",
        "    #print(\"AUC\")\n",
        "    if yhat_raw is not None and calc_auc:\n",
        "        roc_auc = auc_metrics(yhat_raw, y, ymic)\n",
        "        metrics.update(roc_auc)\n",
        "\n",
        "    return metrics"
      ],
      "metadata": {
        "id": "JfZ6qMlfd48u"
      },
      "execution_count": 23,
      "outputs": []
    },
    {
      "cell_type": "code",
      "source": [
        "def evaluate(model, dv_loader, device, tokenizer, return_thresholds=False, doc_position=False):\n",
        "    # apply model to validation set and compute metrics, including identifying best thresholds\n",
        "    yhat_raw, yhat, y, sentences, doc_ids, sent_ixs = gather_predictions(model, dv_loader, device)\n",
        "\n",
        "\n",
        "    # unbalanced metrics\n",
        "    metrics = all_metrics(yhat, y, yhat_raw=yhat_raw, calc_auc=True, label_order=LABEL_TYPES)\n",
        "\n",
        "    return metrics"
      ],
      "metadata": {
        "id": "mknFQXXeY0ks"
      },
      "execution_count": 24,
      "outputs": []
    },
    {
      "cell_type": "code",
      "source": [
        "# parameters\n",
        "\n",
        "max_epochs=5\n",
        "learning_rate=5e-5\n",
        "max_steps=-1\n",
        "gradient_accumulation_steps=4\n",
        "eval_steps = 100\n"
      ],
      "metadata": {
        "id": "kerxyrgGGTuY"
      },
      "execution_count": 25,
      "outputs": []
    },
    {
      "cell_type": "code",
      "source": [
        "# Training loop\n",
        "total_t0 = time.time()\n",
        "tr_loss = 0.0\n",
        "model.zero_grad()\n",
        "model.train()\n",
        "metrics_hist = defaultdict(list)\n",
        "best_epoch = 0\n",
        "best_step = 0\n",
        "step = 0\n",
        "losses = []\n",
        "for epoch in range(max_epochs):\n",
        "        step = 0\n",
        "        t0 = time.time()\n",
        "        for x in tqdm(train_dataloader):\n",
        "            if max_steps > -1 and step > max_steps:\n",
        "                break\n",
        "            # transfer to gpu\n",
        "            for k, v in x.items():\n",
        "                if isinstance(v, torch.Tensor):\n",
        "                    x[k] = v.to(device)\n",
        "            inputs = {'input_ids': x['input_ids'], 'attention_mask': x['attention_mask'], 'labels': x['labels']}\n",
        "            if 'token_type_ids' in x:\n",
        "              inputs['token_type_ids'] = x['token_type_ids']\n",
        "            \n",
        "            outputs = model(**inputs)\n",
        "            loss = outputs['loss']\n",
        "            pred = outputs['logits']\n",
        "\n",
        "            # update parameters\n",
        "            if gradient_accumulation_steps > 1:\n",
        "                loss = loss / gradient_accumulation_steps\n",
        "            loss.backward()\n",
        "            tr_loss += loss.item()\n",
        "            if (step + 1) % gradient_accumulation_steps == 0 or (\n",
        "                # last step in epoch but step is always smaller than gradient_accumulation_steps\n",
        "                len(train_dataloader) <= gradient_accumulation_steps\n",
        "                and (step + 1) == len(train_dataloader)\n",
        "            ):\n",
        "                torch.nn.utils.clip_grad_norm_(model.parameters(), 1.0)\n",
        "                optimizer.step()\n",
        "                model.zero_grad()\n",
        "                losses.append(tr_loss)\n",
        "                tr_loss = 0.0\n",
        "\n",
        "\n",
        "            # tensor output\n",
        "            if (step + 1) % eval_steps == 0:\n",
        "              elapsed = format_time(time.time() - t0)\n",
        "              print('  Batch {:>5,}  of  {:>5,}. Loss: {:>5,}.   Elapsed: {:}.'.format(step, len(train_dataloader), np.mean(losses[-10:]), elapsed))\n",
        "\n",
        "            step += 1\n",
        "\n",
        "#evaluation metrics\n",
        "metrics = evaluate(model, validation_dataloader, device, tokenizer=tokenizer1)\n",
        "for name, metric in metrics.items():\n",
        "  metrics_hist[name].append(metric)\n",
        "\n",
        "#test metrics\n",
        "metrics_hist_test = defaultdict(list)\n",
        "metrics_test = evaluate(model, test_dataloader, device, tokenizer=tokenizer1)\n",
        "for name, metric in metrics_test.items():\n",
        "  metrics_hist_test[name].append(metric)\n",
        "\n",
        "#save model\n",
        "out_dir = \"/content/drive/My Drive/Deep Learning Project\"\n",
        "sd = model.state_dict()\n",
        "torch.save(sd, out_dir + \"/model_final_GatorTron.pth\")\n",
        "\n",
        "  "
      ],
      "metadata": {
        "id": "DGn65XaNTPNt",
        "colab": {
          "base_uri": "https://localhost:8080/",
          "height": 1000
        },
        "outputId": "4ff0e60b-691e-495c-f218-3c3f4cd0f3c7"
      },
      "execution_count": 26,
      "outputs": [
        {
          "output_type": "stream",
          "name": "stderr",
          "text": [
            "\r  0%|          | 0/1198 [00:00<?, ?it/s]<ipython-input-10-ec9cf2df673a>:18: UserWarning: Creating a tensor from a list of numpy.ndarrays is extremely slow. Please consider converting the list to a single numpy.ndarray with numpy.array() before converting to a tensor. (Triggered internally at ../torch/csrc/utils/tensor_new.cpp:245.)\n",
            "  labels = torch.Tensor(labels)\n",
            "  8%|▊         | 100/1198 [01:04<13:58,  1.31it/s]"
          ]
        },
        {
          "output_type": "stream",
          "name": "stdout",
          "text": [
            "  Batch    99  of  1,198. Loss: 0.21516234949231147.   Elapsed: 0:01:05.\n"
          ]
        },
        {
          "output_type": "stream",
          "name": "stderr",
          "text": [
            " 17%|█▋        | 201/1198 [01:58<07:16,  2.28it/s]"
          ]
        },
        {
          "output_type": "stream",
          "name": "stdout",
          "text": [
            "  Batch   199  of  1,198. Loss: 0.09060258795507252.   Elapsed: 0:01:58.\n"
          ]
        },
        {
          "output_type": "stream",
          "name": "stderr",
          "text": [
            " 25%|██▌       | 300/1198 [02:58<07:25,  2.01it/s]"
          ]
        },
        {
          "output_type": "stream",
          "name": "stdout",
          "text": [
            "  Batch   299  of  1,198. Loss: 0.05997060730587691.   Elapsed: 0:02:58.\n"
          ]
        },
        {
          "output_type": "stream",
          "name": "stderr",
          "text": [
            " 33%|███▎      | 401/1198 [03:50<05:27,  2.43it/s]"
          ]
        },
        {
          "output_type": "stream",
          "name": "stdout",
          "text": [
            "  Batch   399  of  1,198. Loss: 0.04441649419022724.   Elapsed: 0:03:50.\n"
          ]
        },
        {
          "output_type": "stream",
          "name": "stderr",
          "text": [
            " 42%|████▏     | 500/1198 [04:41<03:24,  3.41it/s]"
          ]
        },
        {
          "output_type": "stream",
          "name": "stdout",
          "text": [
            "  Batch   499  of  1,198. Loss: 0.04455782260047272.   Elapsed: 0:04:41.\n"
          ]
        },
        {
          "output_type": "stream",
          "name": "stderr",
          "text": [
            " 50%|█████     | 600/1198 [05:38<05:43,  1.74it/s]"
          ]
        },
        {
          "output_type": "stream",
          "name": "stdout",
          "text": [
            "  Batch   599  of  1,198. Loss: 0.03930751067819074.   Elapsed: 0:05:39.\n"
          ]
        },
        {
          "output_type": "stream",
          "name": "stderr",
          "text": [
            " 58%|█████▊    | 700/1198 [06:36<03:27,  2.40it/s]"
          ]
        },
        {
          "output_type": "stream",
          "name": "stdout",
          "text": [
            "  Batch   699  of  1,198. Loss: 0.029923554800916463.   Elapsed: 0:06:37.\n"
          ]
        },
        {
          "output_type": "stream",
          "name": "stderr",
          "text": [
            " 67%|██████▋   | 800/1198 [07:30<03:57,  1.67it/s]"
          ]
        },
        {
          "output_type": "stream",
          "name": "stdout",
          "text": [
            "  Batch   799  of  1,198. Loss: 0.03520517628639937.   Elapsed: 0:07:30.\n"
          ]
        },
        {
          "output_type": "stream",
          "name": "stderr",
          "text": [
            " 75%|███████▌  | 900/1198 [08:21<03:37,  1.37it/s]"
          ]
        },
        {
          "output_type": "stream",
          "name": "stdout",
          "text": [
            "  Batch   899  of  1,198. Loss: 0.030607649561716244.   Elapsed: 0:08:21.\n"
          ]
        },
        {
          "output_type": "stream",
          "name": "stderr",
          "text": [
            " 83%|████████▎ | 1000/1198 [09:08<01:52,  1.77it/s]"
          ]
        },
        {
          "output_type": "stream",
          "name": "stdout",
          "text": [
            "  Batch   999  of  1,198. Loss: 0.0355515445000492.   Elapsed: 0:09:08.\n"
          ]
        },
        {
          "output_type": "stream",
          "name": "stderr",
          "text": [
            " 92%|█████████▏| 1100/1198 [09:57<00:37,  2.65it/s]"
          ]
        },
        {
          "output_type": "stream",
          "name": "stdout",
          "text": [
            "  Batch 1,099  of  1,198. Loss: 0.0335644704697188.   Elapsed: 0:09:58.\n"
          ]
        },
        {
          "output_type": "stream",
          "name": "stderr",
          "text": [
            "100%|██████████| 1198/1198 [10:46<00:00,  1.85it/s]\n",
            "  8%|▊         | 100/1198 [01:01<13:57,  1.31it/s]"
          ]
        },
        {
          "output_type": "stream",
          "name": "stdout",
          "text": [
            "  Batch    99  of  1,198. Loss: 0.03827093391446397.   Elapsed: 0:01:02.\n"
          ]
        },
        {
          "output_type": "stream",
          "name": "stderr",
          "text": [
            " 17%|█▋        | 201/1198 [01:55<07:15,  2.29it/s]"
          ]
        },
        {
          "output_type": "stream",
          "name": "stdout",
          "text": [
            "  Batch   199  of  1,198. Loss: 0.028936773631721736.   Elapsed: 0:01:55.\n"
          ]
        },
        {
          "output_type": "stream",
          "name": "stderr",
          "text": [
            " 25%|██▌       | 300/1198 [02:54<07:25,  2.02it/s]"
          ]
        },
        {
          "output_type": "stream",
          "name": "stdout",
          "text": [
            "  Batch   299  of  1,198. Loss: 0.026755639151087963.   Elapsed: 0:02:54.\n"
          ]
        },
        {
          "output_type": "stream",
          "name": "stderr",
          "text": [
            " 33%|███▎      | 401/1198 [03:46<05:28,  2.43it/s]"
          ]
        },
        {
          "output_type": "stream",
          "name": "stdout",
          "text": [
            "  Batch   399  of  1,198. Loss: 0.022948775021359325.   Elapsed: 0:03:46.\n"
          ]
        },
        {
          "output_type": "stream",
          "name": "stderr",
          "text": [
            " 42%|████▏     | 500/1198 [04:37<03:24,  3.41it/s]"
          ]
        },
        {
          "output_type": "stream",
          "name": "stdout",
          "text": [
            "  Batch   499  of  1,198. Loss: 0.028313687400077468.   Elapsed: 0:04:38.\n"
          ]
        },
        {
          "output_type": "stream",
          "name": "stderr",
          "text": [
            " 50%|█████     | 600/1198 [05:35<05:43,  1.74it/s]"
          ]
        },
        {
          "output_type": "stream",
          "name": "stdout",
          "text": [
            "  Batch   599  of  1,198. Loss: 0.027636762789916246.   Elapsed: 0:05:35.\n"
          ]
        },
        {
          "output_type": "stream",
          "name": "stderr",
          "text": [
            " 58%|█████▊    | 700/1198 [06:33<03:27,  2.40it/s]"
          ]
        },
        {
          "output_type": "stream",
          "name": "stdout",
          "text": [
            "  Batch   699  of  1,198. Loss: 0.02008620561682619.   Elapsed: 0:06:33.\n"
          ]
        },
        {
          "output_type": "stream",
          "name": "stderr",
          "text": [
            " 67%|██████▋   | 800/1198 [07:26<03:57,  1.68it/s]"
          ]
        },
        {
          "output_type": "stream",
          "name": "stdout",
          "text": [
            "  Batch   799  of  1,198. Loss: 0.025511273767915555.   Elapsed: 0:07:27.\n"
          ]
        },
        {
          "output_type": "stream",
          "name": "stderr",
          "text": [
            " 75%|███████▌  | 900/1198 [08:17<03:37,  1.37it/s]"
          ]
        },
        {
          "output_type": "stream",
          "name": "stdout",
          "text": [
            "  Batch   899  of  1,198. Loss: 0.022106173672364095.   Elapsed: 0:08:17.\n"
          ]
        },
        {
          "output_type": "stream",
          "name": "stderr",
          "text": [
            " 83%|████████▎ | 1000/1198 [09:04<01:52,  1.77it/s]"
          ]
        },
        {
          "output_type": "stream",
          "name": "stdout",
          "text": [
            "  Batch   999  of  1,198. Loss: 0.02598128249810543.   Elapsed: 0:09:05.\n"
          ]
        },
        {
          "output_type": "stream",
          "name": "stderr",
          "text": [
            " 92%|█████████▏| 1100/1198 [09:54<00:37,  2.64it/s]"
          ]
        },
        {
          "output_type": "stream",
          "name": "stdout",
          "text": [
            "  Batch 1,099  of  1,198. Loss: 0.02670395020104479.   Elapsed: 0:09:54.\n"
          ]
        },
        {
          "output_type": "stream",
          "name": "stderr",
          "text": [
            "100%|██████████| 1198/1198 [10:43<00:00,  1.86it/s]\n",
            "  8%|▊         | 100/1198 [01:01<13:56,  1.31it/s]"
          ]
        },
        {
          "output_type": "stream",
          "name": "stdout",
          "text": [
            "  Batch    99  of  1,198. Loss: 0.03089250106277177.   Elapsed: 0:01:02.\n"
          ]
        },
        {
          "output_type": "stream",
          "name": "stderr",
          "text": [
            " 17%|█▋        | 201/1198 [01:55<07:15,  2.29it/s]"
          ]
        },
        {
          "output_type": "stream",
          "name": "stdout",
          "text": [
            "  Batch   199  of  1,198. Loss: 0.022768133229692466.   Elapsed: 0:01:55.\n"
          ]
        },
        {
          "output_type": "stream",
          "name": "stderr",
          "text": [
            " 25%|██▌       | 300/1198 [02:54<07:25,  2.02it/s]"
          ]
        },
        {
          "output_type": "stream",
          "name": "stdout",
          "text": [
            "  Batch   299  of  1,198. Loss: 0.022022197546903044.   Elapsed: 0:02:54.\n"
          ]
        },
        {
          "output_type": "stream",
          "name": "stderr",
          "text": [
            " 33%|███▎      | 401/1198 [03:46<05:28,  2.43it/s]"
          ]
        },
        {
          "output_type": "stream",
          "name": "stdout",
          "text": [
            "  Batch   399  of  1,198. Loss: 0.018891806169995105.   Elapsed: 0:03:46.\n"
          ]
        },
        {
          "output_type": "stream",
          "name": "stderr",
          "text": [
            " 42%|████▏     | 500/1198 [04:37<03:24,  3.42it/s]"
          ]
        },
        {
          "output_type": "stream",
          "name": "stdout",
          "text": [
            "  Batch   499  of  1,198. Loss: 0.023527589600416832.   Elapsed: 0:04:38.\n"
          ]
        },
        {
          "output_type": "stream",
          "name": "stderr",
          "text": [
            " 50%|█████     | 600/1198 [05:35<05:43,  1.74it/s]"
          ]
        },
        {
          "output_type": "stream",
          "name": "stdout",
          "text": [
            "  Batch   599  of  1,198. Loss: 0.02218239050998818.   Elapsed: 0:05:35.\n"
          ]
        },
        {
          "output_type": "stream",
          "name": "stderr",
          "text": [
            " 58%|█████▊    | 700/1198 [06:33<03:27,  2.40it/s]"
          ]
        },
        {
          "output_type": "stream",
          "name": "stdout",
          "text": [
            "  Batch   699  of  1,198. Loss: 0.016056691134872382.   Elapsed: 0:06:33.\n"
          ]
        },
        {
          "output_type": "stream",
          "name": "stderr",
          "text": [
            " 67%|██████▋   | 800/1198 [07:26<03:57,  1.67it/s]"
          ]
        },
        {
          "output_type": "stream",
          "name": "stdout",
          "text": [
            "  Batch   799  of  1,198. Loss: 0.02068286201392766.   Elapsed: 0:07:27.\n"
          ]
        },
        {
          "output_type": "stream",
          "name": "stderr",
          "text": [
            " 75%|███████▌  | 900/1198 [08:17<03:37,  1.37it/s]"
          ]
        },
        {
          "output_type": "stream",
          "name": "stdout",
          "text": [
            "  Batch   899  of  1,198. Loss: 0.019080042027053424.   Elapsed: 0:08:17.\n"
          ]
        },
        {
          "output_type": "stream",
          "name": "stderr",
          "text": [
            " 83%|████████▎ | 1000/1198 [09:04<01:52,  1.77it/s]"
          ]
        },
        {
          "output_type": "stream",
          "name": "stdout",
          "text": [
            "  Batch   999  of  1,198. Loss: 0.021430471933854278.   Elapsed: 0:09:05.\n"
          ]
        },
        {
          "output_type": "stream",
          "name": "stderr",
          "text": [
            " 92%|█████████▏| 1100/1198 [09:54<00:37,  2.64it/s]"
          ]
        },
        {
          "output_type": "stream",
          "name": "stdout",
          "text": [
            "  Batch 1,099  of  1,198. Loss: 0.023568763499497436.   Elapsed: 0:09:54.\n"
          ]
        },
        {
          "output_type": "stream",
          "name": "stderr",
          "text": [
            "100%|██████████| 1198/1198 [10:43<00:00,  1.86it/s]\n",
            "  8%|▊         | 100/1198 [01:01<13:57,  1.31it/s]"
          ]
        },
        {
          "output_type": "stream",
          "name": "stdout",
          "text": [
            "  Batch    99  of  1,198. Loss: 0.025728059202083386.   Elapsed: 0:01:02.\n"
          ]
        },
        {
          "output_type": "stream",
          "name": "stderr",
          "text": [
            " 17%|█▋        | 201/1198 [01:55<07:15,  2.29it/s]"
          ]
        },
        {
          "output_type": "stream",
          "name": "stdout",
          "text": [
            "  Batch   199  of  1,198. Loss: 0.020470541635586415.   Elapsed: 0:01:55.\n"
          ]
        },
        {
          "output_type": "stream",
          "name": "stderr",
          "text": [
            " 25%|██▌       | 300/1198 [02:54<07:26,  2.01it/s]"
          ]
        },
        {
          "output_type": "stream",
          "name": "stdout",
          "text": [
            "  Batch   299  of  1,198. Loss: 0.017555924426415005.   Elapsed: 0:02:54.\n"
          ]
        },
        {
          "output_type": "stream",
          "name": "stderr",
          "text": [
            " 33%|███▎      | 401/1198 [03:46<05:28,  2.43it/s]"
          ]
        },
        {
          "output_type": "stream",
          "name": "stdout",
          "text": [
            "  Batch   399  of  1,198. Loss: 0.01680049791757483.   Elapsed: 0:03:46.\n"
          ]
        },
        {
          "output_type": "stream",
          "name": "stderr",
          "text": [
            " 42%|████▏     | 500/1198 [04:37<03:24,  3.42it/s]"
          ]
        },
        {
          "output_type": "stream",
          "name": "stdout",
          "text": [
            "  Batch   499  of  1,198. Loss: 0.020002602305612526.   Elapsed: 0:04:38.\n"
          ]
        },
        {
          "output_type": "stream",
          "name": "stderr",
          "text": [
            " 50%|█████     | 600/1198 [05:35<05:43,  1.74it/s]"
          ]
        },
        {
          "output_type": "stream",
          "name": "stdout",
          "text": [
            "  Batch   599  of  1,198. Loss: 0.019463209678360727.   Elapsed: 0:05:35.\n"
          ]
        },
        {
          "output_type": "stream",
          "name": "stderr",
          "text": [
            " 58%|█████▊    | 700/1198 [06:33<03:27,  2.40it/s]"
          ]
        },
        {
          "output_type": "stream",
          "name": "stdout",
          "text": [
            "  Batch   699  of  1,198. Loss: 0.014322936310782098.   Elapsed: 0:06:33.\n"
          ]
        },
        {
          "output_type": "stream",
          "name": "stderr",
          "text": [
            " 67%|██████▋   | 800/1198 [07:26<03:57,  1.68it/s]"
          ]
        },
        {
          "output_type": "stream",
          "name": "stdout",
          "text": [
            "  Batch   799  of  1,198. Loss: 0.01826004815811757.   Elapsed: 0:07:27.\n"
          ]
        },
        {
          "output_type": "stream",
          "name": "stderr",
          "text": [
            " 75%|███████▌  | 900/1198 [08:17<03:37,  1.37it/s]"
          ]
        },
        {
          "output_type": "stream",
          "name": "stdout",
          "text": [
            "  Batch   899  of  1,198. Loss: 0.014993847302685026.   Elapsed: 0:08:17.\n"
          ]
        },
        {
          "output_type": "stream",
          "name": "stderr",
          "text": [
            " 83%|████████▎ | 1000/1198 [09:04<01:51,  1.77it/s]"
          ]
        },
        {
          "output_type": "stream",
          "name": "stdout",
          "text": [
            "  Batch   999  of  1,198. Loss: 0.018734494037926198.   Elapsed: 0:09:05.\n"
          ]
        },
        {
          "output_type": "stream",
          "name": "stderr",
          "text": [
            " 92%|█████████▏| 1100/1198 [09:54<00:37,  2.64it/s]"
          ]
        },
        {
          "output_type": "stream",
          "name": "stdout",
          "text": [
            "  Batch 1,099  of  1,198. Loss: 0.02095568108052248.   Elapsed: 0:09:54.\n"
          ]
        },
        {
          "output_type": "stream",
          "name": "stderr",
          "text": [
            "100%|██████████| 1198/1198 [10:43<00:00,  1.86it/s]\n",
            "  8%|▊         | 100/1198 [01:01<13:57,  1.31it/s]"
          ]
        },
        {
          "output_type": "stream",
          "name": "stdout",
          "text": [
            "  Batch    99  of  1,198. Loss: 0.022711331449681894.   Elapsed: 0:01:02.\n"
          ]
        },
        {
          "output_type": "stream",
          "name": "stderr",
          "text": [
            " 17%|█▋        | 201/1198 [01:55<07:15,  2.29it/s]"
          ]
        },
        {
          "output_type": "stream",
          "name": "stdout",
          "text": [
            "  Batch   199  of  1,198. Loss: 0.016319572924112437.   Elapsed: 0:01:55.\n"
          ]
        },
        {
          "output_type": "stream",
          "name": "stderr",
          "text": [
            " 25%|██▌       | 300/1198 [02:54<07:26,  2.01it/s]"
          ]
        },
        {
          "output_type": "stream",
          "name": "stdout",
          "text": [
            "  Batch   299  of  1,198. Loss: 0.014710085769183933.   Elapsed: 0:02:54.\n"
          ]
        },
        {
          "output_type": "stream",
          "name": "stderr",
          "text": [
            " 33%|███▎      | 401/1198 [03:46<05:29,  2.42it/s]"
          ]
        },
        {
          "output_type": "stream",
          "name": "stdout",
          "text": [
            "  Batch   399  of  1,198. Loss: 0.014051107550767484.   Elapsed: 0:03:46.\n"
          ]
        },
        {
          "output_type": "stream",
          "name": "stderr",
          "text": [
            " 42%|████▏     | 500/1198 [04:37<03:24,  3.42it/s]"
          ]
        },
        {
          "output_type": "stream",
          "name": "stdout",
          "text": [
            "  Batch   499  of  1,198. Loss: 0.017383412989147473.   Elapsed: 0:04:38.\n"
          ]
        },
        {
          "output_type": "stream",
          "name": "stderr",
          "text": [
            " 50%|█████     | 600/1198 [05:35<05:43,  1.74it/s]"
          ]
        },
        {
          "output_type": "stream",
          "name": "stdout",
          "text": [
            "  Batch   599  of  1,198. Loss: 0.016766855340392794.   Elapsed: 0:05:35.\n"
          ]
        },
        {
          "output_type": "stream",
          "name": "stderr",
          "text": [
            " 58%|█████▊    | 700/1198 [06:33<03:27,  2.40it/s]"
          ]
        },
        {
          "output_type": "stream",
          "name": "stdout",
          "text": [
            "  Batch   699  of  1,198. Loss: 0.012025385278684552.   Elapsed: 0:06:33.\n"
          ]
        },
        {
          "output_type": "stream",
          "name": "stderr",
          "text": [
            " 67%|██████▋   | 800/1198 [07:26<03:57,  1.68it/s]"
          ]
        },
        {
          "output_type": "stream",
          "name": "stdout",
          "text": [
            "  Batch   799  of  1,198. Loss: 0.014889482178114121.   Elapsed: 0:07:27.\n"
          ]
        },
        {
          "output_type": "stream",
          "name": "stderr",
          "text": [
            " 75%|███████▌  | 900/1198 [08:17<03:37,  1.37it/s]"
          ]
        },
        {
          "output_type": "stream",
          "name": "stdout",
          "text": [
            "  Batch   899  of  1,198. Loss: 0.012261831294017611.   Elapsed: 0:08:18.\n"
          ]
        },
        {
          "output_type": "stream",
          "name": "stderr",
          "text": [
            " 83%|████████▎ | 1000/1198 [09:04<01:52,  1.77it/s]"
          ]
        },
        {
          "output_type": "stream",
          "name": "stdout",
          "text": [
            "  Batch   999  of  1,198. Loss: 0.015262183621962322.   Elapsed: 0:09:05.\n"
          ]
        },
        {
          "output_type": "stream",
          "name": "stderr",
          "text": [
            " 92%|█████████▏| 1100/1198 [09:54<00:37,  2.64it/s]"
          ]
        },
        {
          "output_type": "stream",
          "name": "stdout",
          "text": [
            "  Batch 1,099  of  1,198. Loss: 0.018224094752804378.   Elapsed: 0:09:54.\n"
          ]
        },
        {
          "output_type": "stream",
          "name": "stderr",
          "text": [
            "100%|██████████| 1198/1198 [10:43<00:00,  1.86it/s]\n"
          ]
        },
        {
          "output_type": "error",
          "ename": "TypeError",
          "evalue": "ignored",
          "traceback": [
            "\u001b[0;31m---------------------------------------------------------------------------\u001b[0m",
            "\u001b[0;31mTypeError\u001b[0m                                 Traceback (most recent call last)",
            "\u001b[0;32m<ipython-input-26-d2450b16d6b3>\u001b[0m in \u001b[0;36m<cell line: 54>\u001b[0;34m()\u001b[0m\n\u001b[1;32m     52\u001b[0m \u001b[0;34m\u001b[0m\u001b[0m\n\u001b[1;32m     53\u001b[0m \u001b[0;31m#evaluation metrics\u001b[0m\u001b[0;34m\u001b[0m\u001b[0;34m\u001b[0m\u001b[0m\n\u001b[0;32m---> 54\u001b[0;31m \u001b[0mmetrics\u001b[0m \u001b[0;34m=\u001b[0m \u001b[0mevaluate\u001b[0m\u001b[0;34m(\u001b[0m\u001b[0mmodel\u001b[0m\u001b[0;34m,\u001b[0m \u001b[0mvalidation_dataloader\u001b[0m\u001b[0;34m,\u001b[0m \u001b[0mdevice\u001b[0m\u001b[0;34m,\u001b[0m \u001b[0mtokenizer\u001b[0m\u001b[0;34m=\u001b[0m\u001b[0mtokenizer1\u001b[0m\u001b[0;34m)\u001b[0m\u001b[0;34m\u001b[0m\u001b[0;34m\u001b[0m\u001b[0m\n\u001b[0m\u001b[1;32m     55\u001b[0m \u001b[0;32mfor\u001b[0m \u001b[0mname\u001b[0m\u001b[0;34m,\u001b[0m \u001b[0mmetric\u001b[0m \u001b[0;32min\u001b[0m \u001b[0mmetrics\u001b[0m\u001b[0;34m.\u001b[0m\u001b[0mitems\u001b[0m\u001b[0;34m(\u001b[0m\u001b[0;34m)\u001b[0m\u001b[0;34m:\u001b[0m\u001b[0;34m\u001b[0m\u001b[0;34m\u001b[0m\u001b[0m\n\u001b[1;32m     56\u001b[0m   \u001b[0mmetrics_hist\u001b[0m\u001b[0;34m[\u001b[0m\u001b[0mname\u001b[0m\u001b[0;34m]\u001b[0m\u001b[0;34m.\u001b[0m\u001b[0mappend\u001b[0m\u001b[0;34m(\u001b[0m\u001b[0mmetric\u001b[0m\u001b[0;34m)\u001b[0m\u001b[0;34m\u001b[0m\u001b[0;34m\u001b[0m\u001b[0m\n",
            "\u001b[0;32m<ipython-input-24-744ef19789a8>\u001b[0m in \u001b[0;36mevaluate\u001b[0;34m(model, dv_loader, device, tokenizer, return_thresholds, doc_position)\u001b[0m\n\u001b[1;32m      1\u001b[0m \u001b[0;32mdef\u001b[0m \u001b[0mevaluate\u001b[0m\u001b[0;34m(\u001b[0m\u001b[0mmodel\u001b[0m\u001b[0;34m,\u001b[0m \u001b[0mdv_loader\u001b[0m\u001b[0;34m,\u001b[0m \u001b[0mdevice\u001b[0m\u001b[0;34m,\u001b[0m \u001b[0mtokenizer\u001b[0m\u001b[0;34m,\u001b[0m \u001b[0mreturn_thresholds\u001b[0m\u001b[0;34m=\u001b[0m\u001b[0;32mFalse\u001b[0m\u001b[0;34m,\u001b[0m \u001b[0mdoc_position\u001b[0m\u001b[0;34m=\u001b[0m\u001b[0;32mFalse\u001b[0m\u001b[0;34m)\u001b[0m\u001b[0;34m:\u001b[0m\u001b[0;34m\u001b[0m\u001b[0;34m\u001b[0m\u001b[0m\n\u001b[1;32m      2\u001b[0m     \u001b[0;31m# apply model to validation set and compute metrics, including identifying best thresholds\u001b[0m\u001b[0;34m\u001b[0m\u001b[0;34m\u001b[0m\u001b[0m\n\u001b[0;32m----> 3\u001b[0;31m     \u001b[0myhat_raw\u001b[0m\u001b[0;34m,\u001b[0m \u001b[0myhat\u001b[0m\u001b[0;34m,\u001b[0m \u001b[0my\u001b[0m\u001b[0;34m,\u001b[0m \u001b[0msentences\u001b[0m\u001b[0;34m,\u001b[0m \u001b[0mdoc_ids\u001b[0m\u001b[0;34m,\u001b[0m \u001b[0msent_ixs\u001b[0m \u001b[0;34m=\u001b[0m \u001b[0mgather_predictions\u001b[0m\u001b[0;34m(\u001b[0m\u001b[0mmodel\u001b[0m\u001b[0;34m,\u001b[0m \u001b[0mdv_loader\u001b[0m\u001b[0;34m,\u001b[0m \u001b[0mdevice\u001b[0m\u001b[0;34m)\u001b[0m\u001b[0;34m\u001b[0m\u001b[0;34m\u001b[0m\u001b[0m\n\u001b[0m\u001b[1;32m      4\u001b[0m \u001b[0;34m\u001b[0m\u001b[0m\n\u001b[1;32m      5\u001b[0m \u001b[0;34m\u001b[0m\u001b[0m\n",
            "\u001b[0;32m<ipython-input-21-8c00684f1057>\u001b[0m in \u001b[0;36mgather_predictions\u001b[0;34m(model, loader, device, doc_position, save_preds, max_preds)\u001b[0m\n\u001b[1;32m     22\u001b[0m               \u001b[0minputs\u001b[0m\u001b[0;34m[\u001b[0m\u001b[0;34m'token_type_ids'\u001b[0m\u001b[0;34m]\u001b[0m \u001b[0;34m=\u001b[0m \u001b[0mx\u001b[0m\u001b[0;34m[\u001b[0m\u001b[0;34m'token_type_ids'\u001b[0m\u001b[0;34m]\u001b[0m\u001b[0;34m\u001b[0m\u001b[0;34m\u001b[0m\u001b[0m\n\u001b[1;32m     23\u001b[0m             \u001b[0mloss\u001b[0m\u001b[0;34m,\u001b[0m \u001b[0mpred\u001b[0m \u001b[0;34m=\u001b[0m \u001b[0mmodel\u001b[0m\u001b[0;34m(\u001b[0m\u001b[0;34m**\u001b[0m\u001b[0minputs\u001b[0m\u001b[0;34m)\u001b[0m\u001b[0;34m\u001b[0m\u001b[0;34m\u001b[0m\u001b[0m\n\u001b[0;32m---> 24\u001b[0;31m             \u001b[0mpred\u001b[0m \u001b[0;34m=\u001b[0m \u001b[0mtorch\u001b[0m\u001b[0;34m.\u001b[0m\u001b[0msigmoid\u001b[0m\u001b[0;34m(\u001b[0m\u001b[0mpred\u001b[0m\u001b[0;34m)\u001b[0m\u001b[0;34m\u001b[0m\u001b[0;34m\u001b[0m\u001b[0m\n\u001b[0m\u001b[1;32m     25\u001b[0m             \u001b[0mpred\u001b[0m \u001b[0;34m=\u001b[0m \u001b[0mpred\u001b[0m\u001b[0;34m.\u001b[0m\u001b[0mcpu\u001b[0m\u001b[0;34m(\u001b[0m\u001b[0;34m)\u001b[0m\u001b[0;34m.\u001b[0m\u001b[0mnumpy\u001b[0m\u001b[0;34m(\u001b[0m\u001b[0;34m)\u001b[0m\u001b[0;34m\u001b[0m\u001b[0;34m\u001b[0m\u001b[0m\n\u001b[1;32m     26\u001b[0m             \u001b[0myhat_raw\u001b[0m\u001b[0;34m[\u001b[0m\u001b[0mix\u001b[0m\u001b[0;34m]\u001b[0m \u001b[0;34m=\u001b[0m \u001b[0mpred\u001b[0m\u001b[0;34m\u001b[0m\u001b[0;34m\u001b[0m\u001b[0m\n",
            "\u001b[0;31mTypeError\u001b[0m: sigmoid(): argument 'input' (position 1) must be Tensor, not str"
          ]
        }
      ]
    },
    {
      "cell_type": "code",
      "source": [
        "#evaluation metrics\n",
        "metrics = evaluate(model, validation_dataloader, device, tokenizer=tokenizer1)\n",
        "for name, metric in metrics.items():\n",
        "  metrics_hist[name].append(metric)\n",
        "\n",
        "#test metrics\n",
        "metrics_hist_test = defaultdict(list)\n",
        "metrics_test = evaluate(model, test_dataloader, device, tokenizer=tokenizer1)\n",
        "for name, metric in metrics_test.items():\n",
        "  metrics_hist_test[name].append(metric)\n",
        "\n",
        "#save model\n",
        "out_dir = \"/content/drive/My Drive/Deep Learning Project\"\n",
        "sd = model.state_dict()\n",
        "torch.save(sd, out_dir + \"/model_final_GatorTron.pth\")"
      ],
      "metadata": {
        "id": "LjP3ir6dfzZI"
      },
      "execution_count": 28,
      "outputs": []
    },
    {
      "cell_type": "code",
      "source": [
        "print(metrics)\n",
        "print(metrics_test)"
      ],
      "metadata": {
        "id": "tViVfouZhryo",
        "colab": {
          "base_uri": "https://localhost:8080/"
        },
        "outputId": "9aaa0b1d-2057-473b-8e16-928bded8048f"
      },
      "execution_count": 29,
      "outputs": [
        {
          "output_type": "stream",
          "name": "stdout",
          "text": [
            "{'Imaging-f1': 0.6181818181818182, 'Appointment-f1': 0.8465266558966076, 'Medication-f1': 0.6959247648902821, 'Procedure-f1': 0.7179487179487181, 'Lab-f1': 0.637837837837838, 'Patient instructions-f1': 0.842249657064472, 'Other-f1': 0.24242424242424243, 'acc_macro': 0.5155127112888321, 'prec_macro': 0.7400319789561964, 'rec_macro': 0.6130479466846751, 'f1_macro': 0.6705813552960881, 'acc_micro': 0.6611049314052652, 'prec_micro': 0.8075181159420289, 'rec_micro': 0.7847711267605634, 'f1_micro': 0.7959821428571427, 'auc_macro': 0.9714287964205433, 'auc_micro': 0.9869902150215957}\n",
            "{'Imaging-f1': 0.6999999999999998, 'Appointment-f1': 0.8676470588235294, 'Medication-f1': 0.6720977596741343, 'Procedure-f1': 0.6428571428571428, 'Lab-f1': 0.7111111111111111, 'Patient instructions-f1': 0.7734447539461466, 'Other-f1': 0.2260869565217391, 'acc_macro': 0.5134674992307436, 'prec_macro': 0.7601856257221022, 'rec_macro': 0.59417856464969, 'f1_macro': 0.6670081905146812, 'acc_micro': 0.6275082086829624, 'prec_micro': 0.8090310442144873, 'rec_micro': 0.7366167023554604, 'f1_micro': 0.7711275498767092, 'auc_macro': 0.9729444183213741, 'auc_micro': 0.975541405904428}\n"
          ]
        }
      ]
    }
  ]
}